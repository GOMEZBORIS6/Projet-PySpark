{
  "cells": [
    {
      "cell_type": "markdown",
      "metadata": {
        "id": "57BfBuOPuzLV"
      },
      "source": [
        "# ***Mini projet SPARK***\n",
        "\n",
        "Authors:\n",
        "- Jean-Baptiste GOMEZ\n",
        "- Yann SASSE\n",
        "***\n",
        "<center>\n",
        "\n",
        "**Consommation de carburants en France**\n",
        "**Mag 3 - 2023-2024**\n",
        "\n",
        "</center>"
      ]
    },
    {
      "cell_type": "markdown",
      "metadata": {
        "id": "vk-DxekmuzLd"
      },
      "source": [
        "## Importation des bibliothèques requises"
      ]
    },
    {
      "cell_type": "code",
      "execution_count": 3,
      "metadata": {
        "colab": {
          "base_uri": "https://localhost:8080/"
        },
        "id": "sstkqW9quzLe",
        "outputId": "1336389d-de0a-464d-e7f7-1a6fdffe24a1"
      },
      "outputs": [
        {
          "output_type": "stream",
          "name": "stdout",
          "text": [
            "Collecting pyspark\n",
            "  Downloading pyspark-3.5.0.tar.gz (316.9 MB)\n",
            "\u001b[2K     \u001b[90m━━━━━━━━━━━━━━━━━━━━━━━━━━━━━━━━━━━━━━━━\u001b[0m \u001b[32m316.9/316.9 MB\u001b[0m \u001b[31m4.0 MB/s\u001b[0m eta \u001b[36m0:00:00\u001b[0m\n",
            "\u001b[?25h  Preparing metadata (setup.py) ... \u001b[?25l\u001b[?25hdone\n",
            "Requirement already satisfied: py4j==0.10.9.7 in /usr/local/lib/python3.10/dist-packages (from pyspark) (0.10.9.7)\n",
            "Building wheels for collected packages: pyspark\n",
            "  Building wheel for pyspark (setup.py) ... \u001b[?25l\u001b[?25hdone\n",
            "  Created wheel for pyspark: filename=pyspark-3.5.0-py2.py3-none-any.whl size=317425345 sha256=d8778ef6f8b0debb76a87cc1699b681003bee4f1c7ae32558778692ff9fce9e1\n",
            "  Stored in directory: /root/.cache/pip/wheels/41/4e/10/c2cf2467f71c678cfc8a6b9ac9241e5e44a01940da8fbb17fc\n",
            "Successfully built pyspark\n",
            "Installing collected packages: pyspark\n",
            "Successfully installed pyspark-3.5.0\n"
          ]
        }
      ],
      "source": [
        "!pip install pyspark"
      ]
    },
    {
      "cell_type": "code",
      "execution_count": 4,
      "metadata": {
        "colab": {
          "base_uri": "https://localhost:8080/",
          "height": 219
        },
        "id": "fWzuy8oMuzLf",
        "outputId": "f2f2989a-357e-4f8a-9778-97d13a245b7f"
      },
      "outputs": [
        {
          "output_type": "execute_result",
          "data": {
            "text/plain": [
              "<pyspark.sql.session.SparkSession at 0x7d225407e260>"
            ],
            "text/html": [
              "\n",
              "            <div>\n",
              "                <p><b>SparkSession - in-memory</b></p>\n",
              "                \n",
              "        <div>\n",
              "            <p><b>SparkContext</b></p>\n",
              "\n",
              "            <p><a href=\"http://9048988e4430:4040\">Spark UI</a></p>\n",
              "\n",
              "            <dl>\n",
              "              <dt>Version</dt>\n",
              "                <dd><code>v3.5.0</code></dd>\n",
              "              <dt>Master</dt>\n",
              "                <dd><code>local[*]</code></dd>\n",
              "              <dt>AppName</dt>\n",
              "                <dd><code>Spark Gomez</code></dd>\n",
              "            </dl>\n",
              "        </div>\n",
              "        \n",
              "            </div>\n",
              "        "
            ]
          },
          "metadata": {},
          "execution_count": 4
        }
      ],
      "source": [
        "## Démarrer une session spark en établissant la communication entre Python et Spark\n",
        "from pyspark.sql import SparkSession\n",
        "spark = SparkSession.builder.appName('Spark Gomez').getOrCreate()\n",
        "spark"
      ]
    },
    {
      "cell_type": "markdown",
      "metadata": {
        "id": "CyD3cvQAuzLg"
      },
      "source": [
        "## ***Préparation des données - étape 1***\n",
        "\n",
        "Avec PySpark :\n",
        "\n",
        "- Lire et fusionner tous les fichiers de carburants\n",
        "- Date fractionnée en année, mois, semaine de l'année\n",
        "- Rendre les données disponibles sous forme de tableau afin de pouvoir utiliser Spark SQL\n",
        "Grâce à des statistiques de base, déterminez quels types de carburants présentent un certain intérêt pour la suite du projet. Deux d’entre eux présentent peu d’intérêt et pourront être filtrés pour la suite du projet."
      ]
    },
    {
      "cell_type": "markdown",
      "metadata": {
        "id": "zCyfX926uzLg"
      },
      "source": [
        "## Chargement des données"
      ]
    },
    {
      "cell_type": "code",
      "execution_count": 5,
      "metadata": {
        "id": "3oaWAepguzLh"
      },
      "outputs": [],
      "source": [
        "prix_2021 = spark.read.csv(\"Prix2021.csv.gz\", sep=';', header=None, inferSchema=True)\n",
        "prix_2022S1 = spark.read.csv(\"Prix2022S1.csv.gz\", sep=';', header=None, inferSchema=True)\n",
        "prix_2022S2 = spark.read.csv(\"Prix2022S2.csv.gz\", sep=';', header=None, inferSchema=True)\n",
        "prix_2023 = spark.read.csv(\"Prix2023.csv.gz\", sep=';', header=None, inferSchema=True)"
      ]
    },
    {
      "cell_type": "code",
      "execution_count": 6,
      "metadata": {
        "id": "JG5czsfNuzLh"
      },
      "outputs": [],
      "source": [
        "station_2023 = spark.read.option(\"encoding\", \"UTF-8\").csv(\"Stations2023.csv.gz\", sep='|', header=None, inferSchema=True)\n",
        "service_2023 = spark.read.csv(\"Services2023.csv.gz\", sep='|', header=None, inferSchema=True)"
      ]
    },
    {
      "cell_type": "code",
      "execution_count": 7,
      "metadata": {
        "colab": {
          "base_uri": "https://localhost:8080/"
        },
        "id": "U8tpbd2suzLi",
        "outputId": "b96d2c33-581b-4f02-abef-78826942c1a7"
      },
      "outputs": [
        {
          "output_type": "stream",
          "name": "stdout",
          "text": [
            "+-------+----+---+---------+--------+-------------------+------+--------+-----+\n",
            "|id_pdv |cp  |pop|lat      |long    |date               |gas_id|gas_type|price|\n",
            "+-------+----+---+---------+--------+-------------------+------+--------+-----+\n",
            "|1000001|1000|R  |4620100.0|519800.0|2023-01-02 07:53:26|1     |Gazole  |1.867|\n",
            "|1000001|1000|R  |4620100.0|519800.0|2023-01-05 09:33:37|1     |Gazole  |1.877|\n",
            "|1000001|1000|R  |4620100.0|519800.0|2023-01-09 14:51:49|1     |Gazole  |1.875|\n",
            "|1000001|1000|R  |4620100.0|519800.0|2023-01-11 09:23:54|1     |Gazole  |1.859|\n",
            "|1000001|1000|R  |4620100.0|519800.0|2023-01-13 09:07:40|1     |Gazole  |1.862|\n",
            "+-------+----+---+---------+--------+-------------------+------+--------+-----+\n",
            "only showing top 5 rows\n",
            "\n"
          ]
        }
      ],
      "source": [
        "# Rename columns\n",
        "prix_names = ['id_pdv', 'cp', 'pop', 'lat', 'long', 'date', 'gas_id', 'gas_type', 'price']\n",
        "prix_2021 = prix_2021.toDF(*prix_names)\n",
        "prix_2022S1 = prix_2022S1.toDF(*prix_names)\n",
        "prix_2022S2 = prix_2022S2.toDF(*prix_names)\n",
        "prix_2023 = prix_2023.toDF(*prix_names)\n",
        "\n",
        "station_names = ['id_pdv', 'cp', 'pop', 'lat', 'long', 'address', 'city']\n",
        "service_names = ['id_pdv', 'cp', 'pop', 'lat', 'long', 'services']\n",
        "\n",
        "station_2023 = station_2023.toDF(*station_names)\n",
        "service_2023 = service_2023.toDF(*service_names)\n",
        "# Show the resulting DataFrame\n",
        "prix_2023.show(5,truncate=False)"
      ]
    },
    {
      "cell_type": "code",
      "execution_count": 9,
      "metadata": {
        "colab": {
          "base_uri": "https://localhost:8080/"
        },
        "id": "eNAQNP4OuzLi",
        "outputId": "5334856a-3dfe-4dab-99d1-bc9fbbefb789"
      },
      "outputs": [
        {
          "output_type": "stream",
          "name": "stdout",
          "text": [
            "Dimension prix 2021: (4287387, 9)\n",
            "Dimension prix 2022S1: (2630689, 9)\n",
            "Dimension prix 2022S2: (2304432, 9)\n",
            "Dimension prix 2023: (4687530, 9)\n",
            "Dimension Station 2023: (13837, 7)\n",
            "Dimension Service 2023: (13837, 6)\n"
          ]
        }
      ],
      "source": [
        "\n",
        "def dimension_dataframes(dataframes):\n",
        "    # Find the number of rows and columns\n",
        "    num_rows = dataframes.count()\n",
        "    num_columns = len(dataframes.columns)\n",
        "\n",
        "    return (num_rows, num_columns)\n",
        "\n",
        "\n",
        "(num_rows_2021, num_columns_2021) = dimension_dataframes(prix_2021)\n",
        "(num_rows_2022S1, num_columns_2022S1) = dimension_dataframes(prix_2022S1)\n",
        "(num_rows_2022S2, num_columns_2022S2) = dimension_dataframes(prix_2022S2)\n",
        "(num_rows_2023, num_columns_2023) = dimension_dataframes(prix_2023)\n",
        "(num_rows_stat_2023, num_columns_stat_2023) = dimension_dataframes(station_2023)\n",
        "(num_rows_serv_2023, num_columns_serv_2023) = dimension_dataframes(service_2023)\n",
        "\n",
        "# Display the \"shape\"\n",
        "print(\"Dimension prix 2021:\", (num_rows_2021, num_columns_2021))\n",
        "print(\"Dimension prix 2022S1:\", (num_rows_2022S1,num_columns_2022S1))\n",
        "print(\"Dimension prix 2022S2:\", (num_rows_2022S2,num_columns_2022S2))\n",
        "print(\"Dimension prix 2023:\", (num_rows_2023, num_columns_2023))\n",
        "print(\"Dimension Station 2023:\", (num_rows_stat_2023, num_columns_stat_2023))\n",
        "print(\"Dimension Service 2023:\", (num_rows_serv_2023, num_columns_serv_2023))"
      ]
    },
    {
      "cell_type": "markdown",
      "metadata": {
        "id": "0bJzK1D-uzLj"
      },
      "source": [
        "## Fusion de tous les fichiers de carburants"
      ]
    },
    {
      "cell_type": "markdown",
      "metadata": {
        "id": "0eeNj0dbuzLj"
      },
      "source": [
        "### Fusion des prix caburants"
      ]
    },
    {
      "cell_type": "code",
      "execution_count": 10,
      "metadata": {
        "colab": {
          "base_uri": "https://localhost:8080/"
        },
        "id": "UuuwJ2TguzLj",
        "outputId": "6c6f20a2-5b63-41b8-b6d5-09e7724f874c"
      },
      "outputs": [
        {
          "output_type": "stream",
          "name": "stdout",
          "text": [
            "Dimension fusion prix 2021-2022-2023: (13910038, 9)\n",
            "+-------+-------------------+------+--------+------+\n",
            "|id_pdv |date               |gas_id|gas_type|price |\n",
            "+-------+-------------------+------+--------+------+\n",
            "|1000001|2021-01-02 15:13:25|1     |Gazole  |1252.0|\n",
            "|1000001|2021-01-04 09:28:43|1     |Gazole  |1268.0|\n",
            "|1000001|2021-01-06 09:29:19|1     |Gazole  |1268.0|\n",
            "|1000001|2021-01-06 15:45:51|1     |Gazole  |1268.0|\n",
            "|1000001|2021-01-07 09:44:40|1     |Gazole  |1273.0|\n",
            "+-------+-------------------+------+--------+------+\n",
            "only showing top 5 rows\n",
            "\n"
          ]
        }
      ],
      "source": [
        "# Concatenate (bind rows) the DataFrames\n",
        "prix_df = prix_2021.union(prix_2022S1).union(prix_2022S2).union(prix_2023)\n",
        "\n",
        "print(\"Dimension fusion prix 2021-2022-2023:\", dimension_dataframes(prix_df))\n",
        "# Show the resulting DataFrame\n",
        "prix_df = prix_df.drop(\"cp\",\"pop\", \"lat\", \"long\")\n",
        "prix_df.show(5,truncate=False)"
      ]
    },
    {
      "cell_type": "markdown",
      "metadata": {
        "id": "mpx8c-3muzLk"
      },
      "source": [
        "### Fusion des prix avec station et service"
      ]
    },
    {
      "cell_type": "code",
      "execution_count": 11,
      "metadata": {
        "colab": {
          "base_uri": "https://localhost:8080/"
        },
        "id": "leIjDdnxuzLk",
        "outputId": "c9496d83-f27a-4c28-9d66-ce8813a34550"
      },
      "outputs": [
        {
          "output_type": "stream",
          "name": "stdout",
          "text": [
            "Dimension station - service 2023: (13837, 8)\n",
            "+-------+--------------------------+---------------------+----+---+-------------+-------------+-------------------------------------------------------------------------------------------------------------------------------------------------------------------------------------------------------------------------------------------------------------------------------------------------------------------------+\n",
            "|id_pdv |address                   |city                 |cp  |pop|lat          |long         |services                                                                                                                                                                                                                                                                                                                 |\n",
            "+-------+--------------------------+---------------------+----+---+-------------+-------------+-------------------------------------------------------------------------------------------------------------------------------------------------------------------------------------------------------------------------------------------------------------------------------------------------------------------------+\n",
            "|1000001|596 AVENUE DE TREVOUX     |SAINT-DENIS-LèS-BOURG|1000|R  |4620100.0    |519800.0     |Station de gonflage,Vente de gaz domestique (Butane, Propane),DAB (Distributeur automatique de billets)                                                                                                                                                                                                                  |\n",
            "|1000002|16 Avenue de Marboz       |BOURG-EN-BRESSE      |1000|R  |4621842.0    |522767.0     |Vente de gaz domestique (Butane, Propane),DAB (Distributeur automatique de billets)                                                                                                                                                                                                                                      |\n",
            "|1000004|20 Avenue du Maréchal Juin|Bourg-en-Bresse      |1000|R  |4618800.0    |524500.0     |Toilettes publiques,Relais colis,Boutique alimentaire,Boutique non alimentaire,Vente de fioul domestique,Station de gonflage,Carburant additivé,Location de véhicule,Piste poids lourds,Vente de gaz domestique (Butane, Propane),Vente d'additifs carburants,Automate CB 24/24,DAB (Distributeur automatique de billets)|\n",
            "|1000005|642 Avenue de Trévoux     |SAINT-DENIS-LèS-BOURG|1000|R  |4620093.59235|519942.024022|Boutique alimentaire,Boutique non alimentaire,Station de gonflage,Carburant additivé,Piste poids lourds,Lavage automatique,Vente de gaz domestique (Butane, Propane),DAB (Distributeur automatique de billets)                                                                                                           |\n",
            "|1000006|1 Boulevard John Kennedy  |BOURG-EN-BRESSE      |1000|R  |4620754.0    |523758.0     |Vente de gaz domestique (Butane, Propane)                                                                                                                                                                                                                                                                                |\n",
            "+-------+--------------------------+---------------------+----+---+-------------+-------------+-------------------------------------------------------------------------------------------------------------------------------------------------------------------------------------------------------------------------------------------------------------------------------------------------------------------------+\n",
            "only showing top 5 rows\n",
            "\n"
          ]
        }
      ],
      "source": [
        "df_station_serv = station_2023.drop(\"cp\" , \"pop\", \"lat\", \"long\").join(service_2023, [\"id_pdv\"], how=\"left\")\n",
        "print(\"Dimension station - service 2023:\", dimension_dataframes(df_station_serv))\n",
        "df_station_serv.show(5,truncate = False)"
      ]
    },
    {
      "cell_type": "code",
      "execution_count": 12,
      "metadata": {
        "colab": {
          "base_uri": "https://localhost:8080/"
        },
        "id": "Dsu352mHuzLk",
        "outputId": "a5e4f3fe-e689-41ca-b406-43d1efe35029"
      },
      "outputs": [
        {
          "output_type": "stream",
          "name": "stdout",
          "text": [
            "Dimension fusion prix-station-service: (13910038, 12)\n",
            "+-------+-------------------+------+--------+------+---------------------+---------------------+----+---+---------+--------+-------------------------------------------------------------------------------------------------------+\n",
            "|id_pdv |date               |gas_id|gas_type|price |address              |city                 |cp  |pop|lat      |long    |services                                                                                               |\n",
            "+-------+-------------------+------+--------+------+---------------------+---------------------+----+---+---------+--------+-------------------------------------------------------------------------------------------------------+\n",
            "|1000001|2021-01-02 15:13:25|1     |Gazole  |1252.0|596 AVENUE DE TREVOUX|SAINT-DENIS-LèS-BOURG|1000|R  |4620100.0|519800.0|Station de gonflage,Vente de gaz domestique (Butane, Propane),DAB (Distributeur automatique de billets)|\n",
            "|1000001|2021-01-04 09:28:43|1     |Gazole  |1268.0|596 AVENUE DE TREVOUX|SAINT-DENIS-LèS-BOURG|1000|R  |4620100.0|519800.0|Station de gonflage,Vente de gaz domestique (Butane, Propane),DAB (Distributeur automatique de billets)|\n",
            "|1000001|2021-01-06 09:29:19|1     |Gazole  |1268.0|596 AVENUE DE TREVOUX|SAINT-DENIS-LèS-BOURG|1000|R  |4620100.0|519800.0|Station de gonflage,Vente de gaz domestique (Butane, Propane),DAB (Distributeur automatique de billets)|\n",
            "|1000001|2021-01-06 15:45:51|1     |Gazole  |1268.0|596 AVENUE DE TREVOUX|SAINT-DENIS-LèS-BOURG|1000|R  |4620100.0|519800.0|Station de gonflage,Vente de gaz domestique (Butane, Propane),DAB (Distributeur automatique de billets)|\n",
            "|1000001|2021-01-07 09:44:40|1     |Gazole  |1273.0|596 AVENUE DE TREVOUX|SAINT-DENIS-LèS-BOURG|1000|R  |4620100.0|519800.0|Station de gonflage,Vente de gaz domestique (Butane, Propane),DAB (Distributeur automatique de billets)|\n",
            "+-------+-------------------+------+--------+------+---------------------+---------------------+----+---+---------+--------+-------------------------------------------------------------------------------------------------------+\n",
            "only showing top 5 rows\n",
            "\n"
          ]
        }
      ],
      "source": [
        "df = prix_df.join(df_station_serv,[\"id_pdv\"], how=\"left\")\n",
        "print(\"Dimension fusion prix-station-service:\", dimension_dataframes(df))\n",
        "df.show(5,truncate=False)"
      ]
    },
    {
      "cell_type": "markdown",
      "metadata": {
        "id": "eRv31efcuzLk"
      },
      "source": [
        "## Date fractionnée en année, mois, semaine de l'année"
      ]
    },
    {
      "cell_type": "code",
      "execution_count": 13,
      "metadata": {
        "colab": {
          "base_uri": "https://localhost:8080/"
        },
        "id": "JWrdq_dUuXkg",
        "outputId": "507d3b71-bb11-4108-f274-3af920796429"
      },
      "outputs": [
        {
          "output_type": "stream",
          "name": "stdout",
          "text": [
            "+-------+-------------------+------+--------+------+---------------------+---------------------+----+---+---------+--------+-------------------------------------------------------------------------------------------------------+----------+\n",
            "|id_pdv |date               |gas_id|gas_type|price |address              |city                 |cp  |pop|lat      |long    |services                                                                                               |date_only |\n",
            "+-------+-------------------+------+--------+------+---------------------+---------------------+----+---+---------+--------+-------------------------------------------------------------------------------------------------------+----------+\n",
            "|1000001|2021-01-02 15:13:25|1     |Gazole  |1252.0|596 AVENUE DE TREVOUX|SAINT-DENIS-LèS-BOURG|1000|R  |4620100.0|519800.0|Station de gonflage,Vente de gaz domestique (Butane, Propane),DAB (Distributeur automatique de billets)|2021-01-02|\n",
            "|1000001|2021-01-04 09:28:43|1     |Gazole  |1268.0|596 AVENUE DE TREVOUX|SAINT-DENIS-LèS-BOURG|1000|R  |4620100.0|519800.0|Station de gonflage,Vente de gaz domestique (Butane, Propane),DAB (Distributeur automatique de billets)|2021-01-04|\n",
            "|1000001|2021-01-06 09:29:19|1     |Gazole  |1268.0|596 AVENUE DE TREVOUX|SAINT-DENIS-LèS-BOURG|1000|R  |4620100.0|519800.0|Station de gonflage,Vente de gaz domestique (Butane, Propane),DAB (Distributeur automatique de billets)|2021-01-06|\n",
            "|1000001|2021-01-06 15:45:51|1     |Gazole  |1268.0|596 AVENUE DE TREVOUX|SAINT-DENIS-LèS-BOURG|1000|R  |4620100.0|519800.0|Station de gonflage,Vente de gaz domestique (Butane, Propane),DAB (Distributeur automatique de billets)|2021-01-06|\n",
            "|1000001|2021-01-07 09:44:40|1     |Gazole  |1273.0|596 AVENUE DE TREVOUX|SAINT-DENIS-LèS-BOURG|1000|R  |4620100.0|519800.0|Station de gonflage,Vente de gaz domestique (Butane, Propane),DAB (Distributeur automatique de billets)|2021-01-07|\n",
            "+-------+-------------------+------+--------+------+---------------------+---------------------+----+---+---------+--------+-------------------------------------------------------------------------------------------------------+----------+\n",
            "only showing top 5 rows\n",
            "\n"
          ]
        }
      ],
      "source": [
        "from pyspark.sql.types import DateType\n",
        "from datetime import datetime\n",
        "from pyspark.sql.functions import weekofyear\n",
        "from pyspark.sql.functions import unix_timestamp, weekofyear, col, to_date, expr, floor\n",
        "from pyspark.sql.types import TimestampType\n",
        "\n",
        "df = df.withColumn(\"date_only\", col(\"date\").substr(1, 10))\n",
        "df.show(5,truncate=False)"
      ]
    },
    {
      "cell_type": "code",
      "execution_count": 14,
      "metadata": {
        "colab": {
          "base_uri": "https://localhost:8080/"
        },
        "id": "xIzghhHauqt1",
        "outputId": "25a5712d-3e81-447a-df48-81fc13c6e0ff"
      },
      "outputs": [
        {
          "output_type": "execute_result",
          "data": {
            "text/plain": [
              "[('id_pdv', 'int'),\n",
              " ('date', 'timestamp'),\n",
              " ('gas_id', 'int'),\n",
              " ('gas_type', 'string'),\n",
              " ('price', 'double'),\n",
              " ('address', 'string'),\n",
              " ('city', 'string'),\n",
              " ('cp', 'int'),\n",
              " ('pop', 'string'),\n",
              " ('lat', 'double'),\n",
              " ('long', 'double'),\n",
              " ('services', 'string'),\n",
              " ('date_only', 'string')]"
            ]
          },
          "metadata": {},
          "execution_count": 14
        }
      ],
      "source": [
        "df.dtypes"
      ]
    },
    {
      "cell_type": "code",
      "execution_count": 15,
      "metadata": {
        "colab": {
          "base_uri": "https://localhost:8080/"
        },
        "id": "bnUu2WWrurrV",
        "outputId": "21a612fe-806a-4f73-9481-87a9939b3e4b"
      },
      "outputs": [
        {
          "output_type": "stream",
          "name": "stdout",
          "text": [
            "Minimum de la colonne date: 2021-01-01\n"
          ]
        }
      ],
      "source": [
        "# Convertir la colonne de chaînes de caractères en format de date\n",
        "df = df.withColumn(\"date2\", to_date(\"date_only\", \"yyyy-MM-dd\"))\n",
        "min_date = df.selectExpr(\"min(date2)\").collect()[0][0]\n",
        "print(\"Minimum de la colonne date:\", min_date)"
      ]
    },
    {
      "cell_type": "code",
      "execution_count": 16,
      "metadata": {
        "colab": {
          "base_uri": "https://localhost:8080/"
        },
        "id": "Dmeu93U-uwZa",
        "outputId": "4e8d0199-908e-49e8-ae12-6e6e51dfaf4d"
      },
      "outputs": [
        {
          "output_type": "stream",
          "name": "stdout",
          "text": [
            "+-------+-------------------+------+--------+------+------------------+----------+----+---+-------------+-------------+--------+----------+----------+----------------+-------------------+\n",
            "|id_pdv |date               |gas_id|gas_type|price |address           |city      |cp  |pop|lat          |long         |services|date_only |date2     |days_since_start|week_of_year_manual|\n",
            "+-------+-------------------+------+--------+------+------------------+----------+----+---+-------------+-------------+--------+----------+----------+----------------+-------------------+\n",
            "|1160005|2021-01-01 00:01:00|1     |Gazole  |1262.0|RTE DE BOURG RN 75|Pont-d'Ain|1160|R  |4605335.06156|533741.036717|NULL    |2021-01-01|2021-01-01|0               |1                  |\n",
            "|1160005|2021-01-02 00:01:00|1     |Gazole  |1262.0|RTE DE BOURG RN 75|Pont-d'Ain|1160|R  |4605335.06156|533741.036717|NULL    |2021-01-02|2021-01-02|1               |1                  |\n",
            "|1160005|2021-01-03 00:01:00|1     |Gazole  |1262.0|RTE DE BOURG RN 75|Pont-d'Ain|1160|R  |4605335.06156|533741.036717|NULL    |2021-01-03|2021-01-03|2               |1                  |\n",
            "|1160005|2021-01-04 00:01:00|1     |Gazole  |1262.0|RTE DE BOURG RN 75|Pont-d'Ain|1160|R  |4605335.06156|533741.036717|NULL    |2021-01-04|2021-01-04|3               |1                  |\n",
            "|1160005|2021-01-05 00:01:00|1     |Gazole  |1269.0|RTE DE BOURG RN 75|Pont-d'Ain|1160|R  |4605335.06156|533741.036717|NULL    |2021-01-05|2021-01-05|4               |1                  |\n",
            "+-------+-------------------+------+--------+------+------------------+----------+----+---+-------------+-------------+--------+----------+----------+----------------+-------------------+\n",
            "only showing top 5 rows\n",
            "\n"
          ]
        }
      ],
      "source": [
        "date_debut = \"2021-01-01\"\n",
        "\n",
        "\n",
        "\n",
        "# Calculer la différence en jours entre chaque date et la date de début\n",
        "df = df.withColumn(\"days_since_start\", expr(f\"datediff(date2, '{date_debut}')\"))\n",
        "\n",
        "# Calculer la semaine de l'année manuellement\n",
        "df = df.withColumn(\"week_of_year_manual\", floor(expr(\"(days_since_start / 7) + 1\")))\n",
        "\n",
        "df.show(5,truncate=False)"
      ]
    },
    {
      "cell_type": "code",
      "execution_count": 17,
      "metadata": {
        "colab": {
          "base_uri": "https://localhost:8080/"
        },
        "id": "wSbYQEu7uzLk",
        "outputId": "abfb99b7-a95f-4693-f879-cbf4e520270f"
      },
      "outputs": [
        {
          "output_type": "stream",
          "name": "stdout",
          "text": [
            "+-------+----+---+---------+--------+-------------------+----+-----+-------------------+------+--------+------+---------------------+---------------------+-------------------------------------------------------------------------------------------------------+\n",
            "|id_pdv |cp  |pop|lat      |long    |date               |year|month|week_of_year_manual|gas_id|gas_type|price |address              |city                 |services                                                                                               |\n",
            "+-------+----+---+---------+--------+-------------------+----+-----+-------------------+------+--------+------+---------------------+---------------------+-------------------------------------------------------------------------------------------------------+\n",
            "|1000001|1000|R  |4620100.0|519800.0|2021-01-02 15:13:25|2021|1    |1                  |1     |Gazole  |1252.0|596 AVENUE DE TREVOUX|SAINT-DENIS-LèS-BOURG|Station de gonflage,Vente de gaz domestique (Butane, Propane),DAB (Distributeur automatique de billets)|\n",
            "|1000001|1000|R  |4620100.0|519800.0|2021-01-04 09:28:43|2021|1    |1                  |1     |Gazole  |1268.0|596 AVENUE DE TREVOUX|SAINT-DENIS-LèS-BOURG|Station de gonflage,Vente de gaz domestique (Butane, Propane),DAB (Distributeur automatique de billets)|\n",
            "|1000001|1000|R  |4620100.0|519800.0|2021-01-06 09:29:19|2021|1    |1                  |1     |Gazole  |1268.0|596 AVENUE DE TREVOUX|SAINT-DENIS-LèS-BOURG|Station de gonflage,Vente de gaz domestique (Butane, Propane),DAB (Distributeur automatique de billets)|\n",
            "|1000001|1000|R  |4620100.0|519800.0|2021-01-06 15:45:51|2021|1    |1                  |1     |Gazole  |1268.0|596 AVENUE DE TREVOUX|SAINT-DENIS-LèS-BOURG|Station de gonflage,Vente de gaz domestique (Butane, Propane),DAB (Distributeur automatique de billets)|\n",
            "|1000001|1000|R  |4620100.0|519800.0|2021-01-07 09:44:40|2021|1    |1                  |1     |Gazole  |1273.0|596 AVENUE DE TREVOUX|SAINT-DENIS-LèS-BOURG|Station de gonflage,Vente de gaz domestique (Butane, Propane),DAB (Distributeur automatique de billets)|\n",
            "+-------+----+---+---------+--------+-------------------+----+-----+-------------------+------+--------+------+---------------------+---------------------+-------------------------------------------------------------------------------------------------------+\n",
            "only showing top 5 rows\n",
            "\n"
          ]
        }
      ],
      "source": [
        "import pyspark.sql.functions as F #col, year, month, weekofyear\n",
        "\n",
        "# Split the date into year, month\n",
        "df = df.withColumn(\"year\", F.year(F.col(\"date\")))\n",
        "df = df.withColumn(\"month\", F.month(F.col(\"date\")))\n",
        "\n",
        "df = df.selectExpr(\"id_pdv\", \"cp\" , \"pop\", \"lat\", \"long\",\n",
        "                    \"date\", \"year\", \"month\", \"week_of_year_manual\", \"gas_id\",\n",
        "                    \"gas_type\", \"price\", \"address\", \"city\", \"services\")\n",
        "df.show(5,truncate=False)"
      ]
    },
    {
      "cell_type": "markdown",
      "metadata": {
        "id": "e2bKNmHDuzLk"
      },
      "source": [
        "### Statistiques de base."
      ]
    },
    {
      "cell_type": "code",
      "execution_count": null,
      "metadata": {
        "colab": {
          "base_uri": "https://localhost:8080/",
          "height": 523
        },
        "id": "T2lekOneuzLl",
        "outputId": "f8030f5f-6adb-4a3e-a26f-ad74bd2a62f9"
      },
      "outputs": [
        {
          "data": {
            "text/html": [
              "\n",
              "  <div id=\"df-8cfe0a7a-07d3-4e34-b99f-c214f71f35aa\" class=\"colab-df-container\">\n",
              "    <div>\n",
              "<style scoped>\n",
              "    .dataframe tbody tr th:only-of-type {\n",
              "        vertical-align: middle;\n",
              "    }\n",
              "\n",
              "    .dataframe tbody tr th {\n",
              "        vertical-align: top;\n",
              "    }\n",
              "\n",
              "    .dataframe thead th {\n",
              "        text-align: right;\n",
              "    }\n",
              "</style>\n",
              "<table border=\"1\" class=\"dataframe\">\n",
              "  <thead>\n",
              "    <tr style=\"text-align: right;\">\n",
              "      <th>summary</th>\n",
              "      <th>count</th>\n",
              "      <th>mean</th>\n",
              "      <th>stddev</th>\n",
              "      <th>min</th>\n",
              "      <th>max</th>\n",
              "    </tr>\n",
              "  </thead>\n",
              "  <tbody>\n",
              "    <tr>\n",
              "      <th>id_pdv</th>\n",
              "      <td>13910038</td>\n",
              "      <td>5.179937708308755E7</td>\n",
              "      <td>2.6869798125143494E7</td>\n",
              "      <td>1000001</td>\n",
              "      <td>96600001</td>\n",
              "    </tr>\n",
              "    <tr>\n",
              "      <th>cp</th>\n",
              "      <td>13895163</td>\n",
              "      <td>51789.95842452514</td>\n",
              "      <td>26867.371431997424</td>\n",
              "      <td>1000</td>\n",
              "      <td>97429</td>\n",
              "    </tr>\n",
              "    <tr>\n",
              "      <th>pop</th>\n",
              "      <td>13895163</td>\n",
              "      <td>None</td>\n",
              "      <td>None</td>\n",
              "      <td>A</td>\n",
              "      <td>R</td>\n",
              "    </tr>\n",
              "    <tr>\n",
              "      <th>lat</th>\n",
              "      <td>13894960</td>\n",
              "      <td>4686800.420188068</td>\n",
              "      <td>225871.1187711849</td>\n",
              "      <td>-2094971.3596753</td>\n",
              "      <td>6260655.98007</td>\n",
              "    </tr>\n",
              "    <tr>\n",
              "      <th>long</th>\n",
              "      <td>13894963</td>\n",
              "      <td>261140.54648614695</td>\n",
              "      <td>273055.7903288592</td>\n",
              "      <td>-472300.0</td>\n",
              "      <td>5529526.0602666</td>\n",
              "    </tr>\n",
              "    <tr>\n",
              "      <th>year</th>\n",
              "      <td>13898160</td>\n",
              "      <td>2022.0287563965303</td>\n",
              "      <td>0.802726400748052</td>\n",
              "      <td>2021</td>\n",
              "      <td>2023</td>\n",
              "    </tr>\n",
              "    <tr>\n",
              "      <th>month</th>\n",
              "      <td>13898160</td>\n",
              "      <td>6.472393395960329</td>\n",
              "      <td>3.426742143982171</td>\n",
              "      <td>1</td>\n",
              "      <td>12</td>\n",
              "    </tr>\n",
              "    <tr>\n",
              "      <th>week_of_year_manual</th>\n",
              "      <td>13898160</td>\n",
              "      <td>79.92443978195675</td>\n",
              "      <td>44.311146795074045</td>\n",
              "      <td>1</td>\n",
              "      <td>157</td>\n",
              "    </tr>\n",
              "    <tr>\n",
              "      <th>gas_id</th>\n",
              "      <td>13898160</td>\n",
              "      <td>3.607764121293754</td>\n",
              "      <td>2.040891069974928</td>\n",
              "      <td>1</td>\n",
              "      <td>6</td>\n",
              "    </tr>\n",
              "    <tr>\n",
              "      <th>gas_type</th>\n",
              "      <td>13898160</td>\n",
              "      <td>None</td>\n",
              "      <td>None</td>\n",
              "      <td>E10</td>\n",
              "      <td>SP98</td>\n",
              "    </tr>\n",
              "    <tr>\n",
              "      <th>price</th>\n",
              "      <td>13898160</td>\n",
              "      <td>448.3996004553667</td>\n",
              "      <td>687.5821503295846</td>\n",
              "      <td>0.001</td>\n",
              "      <td>9659.0</td>\n",
              "    </tr>\n",
              "    <tr>\n",
              "      <th>address</th>\n",
              "      <td>13895163</td>\n",
              "      <td>None</td>\n",
              "      <td>None</td>\n",
              "      <td>180 Route Nationale 1</td>\n",
              "      <td>zone industrielle Les Giscarrels</td>\n",
              "    </tr>\n",
              "    <tr>\n",
              "      <th>city</th>\n",
              "      <td>13895163</td>\n",
              "      <td>None</td>\n",
              "      <td>None</td>\n",
              "      <td>38330 SAINT NAZAIRE LES EYMES</td>\n",
              "      <td>Évry</td>\n",
              "    </tr>\n",
              "    <tr>\n",
              "      <th>services</th>\n",
              "      <td>12222471</td>\n",
              "      <td>None</td>\n",
              "      <td>None</td>\n",
              "      <td>Aire de camping-cars</td>\n",
              "      <td>Wifi,Automate CB 24/24,DAB (Distributeur autom...</td>\n",
              "    </tr>\n",
              "  </tbody>\n",
              "</table>\n",
              "</div>\n",
              "    <div class=\"colab-df-buttons\">\n",
              "\n",
              "  <div class=\"colab-df-container\">\n",
              "    <button class=\"colab-df-convert\" onclick=\"convertToInteractive('df-8cfe0a7a-07d3-4e34-b99f-c214f71f35aa')\"\n",
              "            title=\"Convert this dataframe to an interactive table.\"\n",
              "            style=\"display:none;\">\n",
              "\n",
              "  <svg xmlns=\"http://www.w3.org/2000/svg\" height=\"24px\" viewBox=\"0 -960 960 960\">\n",
              "    <path d=\"M120-120v-720h720v720H120Zm60-500h600v-160H180v160Zm220 220h160v-160H400v160Zm0 220h160v-160H400v160ZM180-400h160v-160H180v160Zm440 0h160v-160H620v160ZM180-180h160v-160H180v160Zm440 0h160v-160H620v160Z\"/>\n",
              "  </svg>\n",
              "    </button>\n",
              "\n",
              "  <style>\n",
              "    .colab-df-container {\n",
              "      display:flex;\n",
              "      gap: 12px;\n",
              "    }\n",
              "\n",
              "    .colab-df-convert {\n",
              "      background-color: #E8F0FE;\n",
              "      border: none;\n",
              "      border-radius: 50%;\n",
              "      cursor: pointer;\n",
              "      display: none;\n",
              "      fill: #1967D2;\n",
              "      height: 32px;\n",
              "      padding: 0 0 0 0;\n",
              "      width: 32px;\n",
              "    }\n",
              "\n",
              "    .colab-df-convert:hover {\n",
              "      background-color: #E2EBFA;\n",
              "      box-shadow: 0px 1px 2px rgba(60, 64, 67, 0.3), 0px 1px 3px 1px rgba(60, 64, 67, 0.15);\n",
              "      fill: #174EA6;\n",
              "    }\n",
              "\n",
              "    .colab-df-buttons div {\n",
              "      margin-bottom: 4px;\n",
              "    }\n",
              "\n",
              "    [theme=dark] .colab-df-convert {\n",
              "      background-color: #3B4455;\n",
              "      fill: #D2E3FC;\n",
              "    }\n",
              "\n",
              "    [theme=dark] .colab-df-convert:hover {\n",
              "      background-color: #434B5C;\n",
              "      box-shadow: 0px 1px 3px 1px rgba(0, 0, 0, 0.15);\n",
              "      filter: drop-shadow(0px 1px 2px rgba(0, 0, 0, 0.3));\n",
              "      fill: #FFFFFF;\n",
              "    }\n",
              "  </style>\n",
              "\n",
              "    <script>\n",
              "      const buttonEl =\n",
              "        document.querySelector('#df-8cfe0a7a-07d3-4e34-b99f-c214f71f35aa button.colab-df-convert');\n",
              "      buttonEl.style.display =\n",
              "        google.colab.kernel.accessAllowed ? 'block' : 'none';\n",
              "\n",
              "      async function convertToInteractive(key) {\n",
              "        const element = document.querySelector('#df-8cfe0a7a-07d3-4e34-b99f-c214f71f35aa');\n",
              "        const dataTable =\n",
              "          await google.colab.kernel.invokeFunction('convertToInteractive',\n",
              "                                                    [key], {});\n",
              "        if (!dataTable) return;\n",
              "\n",
              "        const docLinkHtml = 'Like what you see? Visit the ' +\n",
              "          '<a target=\"_blank\" href=https://colab.research.google.com/notebooks/data_table.ipynb>data table notebook</a>'\n",
              "          + ' to learn more about interactive tables.';\n",
              "        element.innerHTML = '';\n",
              "        dataTable['output_type'] = 'display_data';\n",
              "        await google.colab.output.renderOutput(dataTable, element);\n",
              "        const docLink = document.createElement('div');\n",
              "        docLink.innerHTML = docLinkHtml;\n",
              "        element.appendChild(docLink);\n",
              "      }\n",
              "    </script>\n",
              "  </div>\n",
              "\n",
              "\n",
              "<div id=\"df-d14668c3-6a51-4dd7-8db2-41a944e9a1f4\">\n",
              "  <button class=\"colab-df-quickchart\" onclick=\"quickchart('df-d14668c3-6a51-4dd7-8db2-41a944e9a1f4')\"\n",
              "            title=\"Suggest charts\"\n",
              "            style=\"display:none;\">\n",
              "\n",
              "<svg xmlns=\"http://www.w3.org/2000/svg\" height=\"24px\"viewBox=\"0 0 24 24\"\n",
              "     width=\"24px\">\n",
              "    <g>\n",
              "        <path d=\"M19 3H5c-1.1 0-2 .9-2 2v14c0 1.1.9 2 2 2h14c1.1 0 2-.9 2-2V5c0-1.1-.9-2-2-2zM9 17H7v-7h2v7zm4 0h-2V7h2v10zm4 0h-2v-4h2v4z\"/>\n",
              "    </g>\n",
              "</svg>\n",
              "  </button>\n",
              "\n",
              "<style>\n",
              "  .colab-df-quickchart {\n",
              "      --bg-color: #E8F0FE;\n",
              "      --fill-color: #1967D2;\n",
              "      --hover-bg-color: #E2EBFA;\n",
              "      --hover-fill-color: #174EA6;\n",
              "      --disabled-fill-color: #AAA;\n",
              "      --disabled-bg-color: #DDD;\n",
              "  }\n",
              "\n",
              "  [theme=dark] .colab-df-quickchart {\n",
              "      --bg-color: #3B4455;\n",
              "      --fill-color: #D2E3FC;\n",
              "      --hover-bg-color: #434B5C;\n",
              "      --hover-fill-color: #FFFFFF;\n",
              "      --disabled-bg-color: #3B4455;\n",
              "      --disabled-fill-color: #666;\n",
              "  }\n",
              "\n",
              "  .colab-df-quickchart {\n",
              "    background-color: var(--bg-color);\n",
              "    border: none;\n",
              "    border-radius: 50%;\n",
              "    cursor: pointer;\n",
              "    display: none;\n",
              "    fill: var(--fill-color);\n",
              "    height: 32px;\n",
              "    padding: 0;\n",
              "    width: 32px;\n",
              "  }\n",
              "\n",
              "  .colab-df-quickchart:hover {\n",
              "    background-color: var(--hover-bg-color);\n",
              "    box-shadow: 0 1px 2px rgba(60, 64, 67, 0.3), 0 1px 3px 1px rgba(60, 64, 67, 0.15);\n",
              "    fill: var(--button-hover-fill-color);\n",
              "  }\n",
              "\n",
              "  .colab-df-quickchart-complete:disabled,\n",
              "  .colab-df-quickchart-complete:disabled:hover {\n",
              "    background-color: var(--disabled-bg-color);\n",
              "    fill: var(--disabled-fill-color);\n",
              "    box-shadow: none;\n",
              "  }\n",
              "\n",
              "  .colab-df-spinner {\n",
              "    border: 2px solid var(--fill-color);\n",
              "    border-color: transparent;\n",
              "    border-bottom-color: var(--fill-color);\n",
              "    animation:\n",
              "      spin 1s steps(1) infinite;\n",
              "  }\n",
              "\n",
              "  @keyframes spin {\n",
              "    0% {\n",
              "      border-color: transparent;\n",
              "      border-bottom-color: var(--fill-color);\n",
              "      border-left-color: var(--fill-color);\n",
              "    }\n",
              "    20% {\n",
              "      border-color: transparent;\n",
              "      border-left-color: var(--fill-color);\n",
              "      border-top-color: var(--fill-color);\n",
              "    }\n",
              "    30% {\n",
              "      border-color: transparent;\n",
              "      border-left-color: var(--fill-color);\n",
              "      border-top-color: var(--fill-color);\n",
              "      border-right-color: var(--fill-color);\n",
              "    }\n",
              "    40% {\n",
              "      border-color: transparent;\n",
              "      border-right-color: var(--fill-color);\n",
              "      border-top-color: var(--fill-color);\n",
              "    }\n",
              "    60% {\n",
              "      border-color: transparent;\n",
              "      border-right-color: var(--fill-color);\n",
              "    }\n",
              "    80% {\n",
              "      border-color: transparent;\n",
              "      border-right-color: var(--fill-color);\n",
              "      border-bottom-color: var(--fill-color);\n",
              "    }\n",
              "    90% {\n",
              "      border-color: transparent;\n",
              "      border-bottom-color: var(--fill-color);\n",
              "    }\n",
              "  }\n",
              "</style>\n",
              "\n",
              "  <script>\n",
              "    async function quickchart(key) {\n",
              "      const quickchartButtonEl =\n",
              "        document.querySelector('#' + key + ' button');\n",
              "      quickchartButtonEl.disabled = true;  // To prevent multiple clicks.\n",
              "      quickchartButtonEl.classList.add('colab-df-spinner');\n",
              "      try {\n",
              "        const charts = await google.colab.kernel.invokeFunction(\n",
              "            'suggestCharts', [key], {});\n",
              "      } catch (error) {\n",
              "        console.error('Error during call to suggestCharts:', error);\n",
              "      }\n",
              "      quickchartButtonEl.classList.remove('colab-df-spinner');\n",
              "      quickchartButtonEl.classList.add('colab-df-quickchart-complete');\n",
              "    }\n",
              "    (() => {\n",
              "      let quickchartButtonEl =\n",
              "        document.querySelector('#df-d14668c3-6a51-4dd7-8db2-41a944e9a1f4 button');\n",
              "      quickchartButtonEl.style.display =\n",
              "        google.colab.kernel.accessAllowed ? 'block' : 'none';\n",
              "    })();\n",
              "  </script>\n",
              "</div>\n",
              "    </div>\n",
              "  </div>\n"
            ],
            "text/plain": [
              "summary                 count                 mean                stddev  \\\n",
              "id_pdv               13910038  5.179937708308755E7  2.6869798125143494E7   \n",
              "cp                   13895163    51789.95842452514    26867.371431997424   \n",
              "pop                  13895163                 None                  None   \n",
              "lat                  13894960    4686800.420188068     225871.1187711849   \n",
              "long                 13894963   261140.54648614695     273055.7903288592   \n",
              "year                 13898160   2022.0287563965303     0.802726400748052   \n",
              "month                13898160    6.472393395960329     3.426742143982171   \n",
              "week_of_year_manual  13898160    79.92443978195675    44.311146795074045   \n",
              "gas_id               13898160    3.607764121293754     2.040891069974928   \n",
              "gas_type             13898160                 None                  None   \n",
              "price                13898160    448.3996004553667     687.5821503295846   \n",
              "address              13895163                 None                  None   \n",
              "city                 13895163                 None                  None   \n",
              "services             12222471                 None                  None   \n",
              "\n",
              "summary                                        min  \\\n",
              "id_pdv                                     1000001   \n",
              "cp                                            1000   \n",
              "pop                                              A   \n",
              "lat                               -2094971.3596753   \n",
              "long                                     -472300.0   \n",
              "year                                          2021   \n",
              "month                                            1   \n",
              "week_of_year_manual                              1   \n",
              "gas_id                                           1   \n",
              "gas_type                                       E10   \n",
              "price                                        0.001   \n",
              "address                      180 Route Nationale 1   \n",
              "city                 38330 SAINT NAZAIRE LES EYMES   \n",
              "services                      Aire de camping-cars   \n",
              "\n",
              "summary                                                            max  \n",
              "id_pdv                                                        96600001  \n",
              "cp                                                               97429  \n",
              "pop                                                                  R  \n",
              "lat                                                      6260655.98007  \n",
              "long                                                   5529526.0602666  \n",
              "year                                                              2023  \n",
              "month                                                               12  \n",
              "week_of_year_manual                                                157  \n",
              "gas_id                                                               6  \n",
              "gas_type                                                          SP98  \n",
              "price                                                           9659.0  \n",
              "address                               zone industrielle Les Giscarrels  \n",
              "city                                                              Évry  \n",
              "services             Wifi,Automate CB 24/24,DAB (Distributeur autom...  "
            ]
          },
          "execution_count": 18,
          "metadata": {},
          "output_type": "execute_result"
        }
      ],
      "source": [
        "df.describe().toPandas().set_index('summary').transpose()"
      ]
    },
    {
      "cell_type": "markdown",
      "metadata": {
        "id": "ORxLjVsXuzLl"
      },
      "source": [
        "Déterminez quels types de carburants présentent un certain intérêt pour la suite du projet. Deux d’entre eux présentent peu d’intérêt et pourront être filtrés pour la suite du projet."
      ]
    },
    {
      "cell_type": "code",
      "execution_count": null,
      "metadata": {
        "colab": {
          "base_uri": "https://localhost:8080/"
        },
        "id": "DBqb3UW6uzLl",
        "outputId": "e5c1f84b-9aca-43f0-df50-04d549f08cf5"
      },
      "outputs": [
        {
          "name": "stdout",
          "output_type": "stream",
          "text": [
            "+--------+\n",
            "|gas_type|\n",
            "+--------+\n",
            "|E10     |\n",
            "|SP98    |\n",
            "|E85     |\n",
            "|Gazole  |\n",
            "|SP95    |\n",
            "|GPLc    |\n",
            "|NULL    |\n",
            "+--------+\n",
            "\n"
          ]
        }
      ],
      "source": [
        "#Valeurs distinctes de types de caburant\n",
        "df.select(\"gas_type\").distinct().show(truncate = False)"
      ]
    },
    {
      "cell_type": "markdown",
      "metadata": {
        "id": "PP6Ar7X-uzLl"
      },
      "source": [
        "Suppression de la ligne où `gas_type == NULL`"
      ]
    },
    {
      "cell_type": "code",
      "execution_count": null,
      "metadata": {
        "colab": {
          "base_uri": "https://localhost:8080/"
        },
        "id": "HeBAzRcruzLl",
        "outputId": "829d87a8-7c90-45b8-8156-179b749345ed"
      },
      "outputs": [
        {
          "name": "stdout",
          "output_type": "stream",
          "text": [
            "+--------+\n",
            "|gas_type|\n",
            "+--------+\n",
            "|E10     |\n",
            "|SP98    |\n",
            "|E85     |\n",
            "|Gazole  |\n",
            "|SP95    |\n",
            "|GPLc    |\n",
            "+--------+\n",
            "\n"
          ]
        }
      ],
      "source": [
        "\n",
        "df = df.filter(F.col(\"gas_type\").isNotNull())\n",
        "df.select(\"gas_type\").distinct().show(truncate = False)"
      ]
    },
    {
      "cell_type": "code",
      "execution_count": 22,
      "metadata": {
        "colab": {
          "base_uri": "https://localhost:8080/",
          "height": 496
        },
        "id": "NQ1W_g84uzLl",
        "outputId": "852c71d9-0090-42b9-f397-e96a502b3e6e"
      },
      "outputs": [
        {
          "output_type": "display_data",
          "data": {
            "text/plain": [
              "<Figure size 1000x500 with 1 Axes>"
            ],
            "image/png": "[encoded data removed]"
          },
          "metadata": {}
        }
      ],
      "source": [
        "import seaborn as sns\n",
        "import matplotlib.pyplot as plt\n",
        "\n",
        "#df_years = df.withColumn(\"year\", df[\"year\"].cast(\"int\"))\n",
        "\n",
        "# Group by 'year' and 'gas_type' and count occurrences\n",
        "count_df = df.groupBy('year', 'gas_type').agg(F.count('*').alias('count')).orderBy('year', 'gas_type')\n",
        "#count_df.show()\n",
        "# Convert PySpark DataFrame to Pandas DataFrame\n",
        "count_pandas = count_df.toPandas()\n",
        "\n",
        "# Create a stacked bar chart\n",
        "plt.figure(figsize=(10, 5))\n",
        "sns.barplot(x='year', y='count', hue='gas_type', data=count_pandas, palette='Set1', edgecolor='w')\n",
        "plt.title('Stacked Bar Chart of Gas Types per Year')\n",
        "plt.show()\n"
      ]
    },
    {
      "cell_type": "code",
      "execution_count": 20,
      "metadata": {
        "colab": {
          "base_uri": "https://localhost:8080/",
          "height": 527
        },
        "id": "7dvadcrsuzLl",
        "outputId": "efb7d683-d9b7-40ed-9030-9d6aa485ec1f"
      },
      "outputs": [
        {
          "output_type": "display_data",
          "data": {
            "text/plain": [
              "<Figure size 1000x500 with 1 Axes>"
            ],
            "image/png": "[encoded data removed]"
          },
          "metadata": {}
        }
      ],
      "source": [
        "import seaborn as sns   # seaborn est une extension de matplotlib\n",
        "sns.set()\n",
        "(df\n",
        " .groupBy('gas_type')\n",
        " .agg(F.count('*').alias('count'))\n",
        " .orderBy('count')\n",
        " .toPandas()\n",
        ").plot(kind='bar', x='gas_type', y='count', figsize=(10, 5));"
      ]
    },
    {
      "cell_type": "markdown",
      "metadata": {
        "id": "l6AbcOjmuzLm"
      },
      "source": [
        "Comme on peut le voir sur les deux graphiques précédentes les deux types de caburant qui ont peu d'intérêt sont ***GPLc*** et ***SP95***."
      ]
    },
    {
      "cell_type": "markdown",
      "metadata": {
        "id": "u7sfpT0IuzLm"
      },
      "source": [
        "# ***Utilisation de Spark SQL***"
      ]
    },
    {
      "cell_type": "markdown",
      "metadata": {
        "id": "cy1c6p7fuzLm"
      },
      "source": [
        "Nous avons ensuite rendu les données disponibles sous forme de tableau temporaire afin de pouvoir utiliser Spark SQL.\n",
        "Nom de la table : `Consommation_caburant`."
      ]
    },
    {
      "cell_type": "code",
      "execution_count": null,
      "metadata": {
        "id": "r3t6Ts4tuzLm"
      },
      "outputs": [],
      "source": [
        "df.createOrReplaceTempView(\"Consommation_caburant\")"
      ]
    },
    {
      "cell_type": "markdown",
      "metadata": {
        "id": "wrT9EQHQuzLm"
      },
      "source": [
        "## ***Préparation des données - étape 2***"
      ]
    },
    {
      "cell_type": "markdown",
      "metadata": {
        "id": "3icPjDVduzLm"
      },
      "source": [
        "- Calculer l'indice des prix pour chaque station par semaine :\n",
        "La formule étant :\n",
        "$$\n",
        "Price index = 100 * (\\frac{Day Price in station - Average Day Price in France}{Average Day Price in France} + 1)\n",
        "$$\n",
        "\n",
        "Mais quand on rend au même dénominateur on a:\n",
        "$$\n",
        "Price index = 100 * (\\frac{Day Price in station}{Average Day Price in France})\n",
        "$$"
      ]
    },
    {
      "cell_type": "code",
      "execution_count": null,
      "metadata": {
        "colab": {
          "base_uri": "https://localhost:8080/"
        },
        "id": "tIvhjLUcuzLn",
        "outputId": "b5a4d879-ea39-4f59-e1c8-8d5b34c472a2"
      },
      "outputs": [
        {
          "name": "stdout",
          "output_type": "stream",
          "text": [
            "+--------+-------------------+-----------+\n",
            "|gas_type|week_of_year_manual|Price_Index|\n",
            "+--------+-------------------+-----------+\n",
            "|E10     |1                  |1854000.0  |\n",
            "|E10     |2                  |2436000.0  |\n",
            "|E10     |3                  |1896400.0  |\n",
            "|E10     |4                  |1673800.0  |\n",
            "|E10     |5                  |1820600.0  |\n",
            "+--------+-------------------+-----------+\n",
            "only showing top 5 rows\n",
            "\n"
          ]
        }
      ],
      "source": [
        "# one step\n",
        "result_df = spark.sql(\"\"\"\n",
        "    SELECT\n",
        "        gas_type,\n",
        "        week_of_year_manual,\n",
        "        100 * (SUM(price) / AVG(price)) AS Price_Index\n",
        "    FROM\n",
        "        Consommation_caburant\n",
        "    GROUP BY\n",
        "        gas_type,\n",
        "        week_of_year_manual\n",
        "    ORDER BY\n",
        "        gas_type, week_of_year_manual\n",
        "\"\"\")\n",
        "\n",
        "# Show the final result\n",
        "result_df.show(5,truncate=False)"
      ]
    },
    {
      "cell_type": "markdown",
      "metadata": {
        "id": "ZKtbPcXbuzLo"
      },
      "source": [
        "Calculer l'index de la semaine:\n",
        "- Calculez une nouvelle variable appelée «Index de la semaine» pour chaque enregistrement en comptant le nombre de semaines depuis la première semaine du fichier.\n",
        "- Exemple : si vous avez chargé les années 2019 à 2021, la première semaine de 2019 doit être numérotée 1, la dernière semaine de 2021 doit être numérotée 156 (3 x 52)\n",
        "- Dans notre cas, l'index  de la semaine a été déjà calculé depuis le début de ce programme et correspond au colonne week_of_year_manual.\n",
        "  "
      ]
    },
    {
      "cell_type": "code",
      "execution_count": null,
      "metadata": {
        "colab": {
          "base_uri": "https://localhost:8080/"
        },
        "id": "4SzwNH5pe5UR",
        "outputId": "37cc174a-32ff-44b7-eaf6-295d29968640"
      },
      "outputs": [
        {
          "name": "stdout",
          "output_type": "stream",
          "text": [
            "La première valeur de la week_of_year_manual est : 1\n",
            "La dernière valeur de la week_of_year_manual est : 157\n"
          ]
        }
      ],
      "source": [
        "from pyspark.sql.functions import first, last\n",
        "\n",
        "# Obtenir la première valeur de la colonne week_of_year_manual\n",
        "premiere_valeur = df.select(first('week_of_year_manual')).first()[0]\n",
        "\n",
        "# Obtenir la dernière valeur de la colonne\n",
        "derniere_valeur = df.select(last('week_of_year_manual')).first()[0]\n",
        "\n",
        "\n",
        "print(\"La première valeur de la week_of_year_manual est :\", premiere_valeur)\n",
        "print(\"La dernière valeur de la week_of_year_manual est :\", derniere_valeur)\n"
      ]
    },
    {
      "cell_type": "markdown",
      "source": [
        "## ***Visualisation des données***\n",
        "\n",
        "En utilisant matplotlib/seaborn ou plotly :\n",
        "Représenter l'évolution hebdomadaire du prix moyen des carburant sur la France tel que :\n",
        "\n",
        "*   Le prix moyen de chaque type de carburant est représenté par une\n",
        "ligne\n",
        "*   Les coordonnées en X sont l'index précédemment calculé de la\n",
        "semaine\n",
        "\n",
        "* La coordonnée Y est le prix moyen du type de carburant en France\n",
        "sur la semaine."
      ],
      "metadata": {
        "id": "5_b9MRxrmJLV"
      }
    },
    {
      "cell_type": "code",
      "source": [
        "from pyspark.sql.functions import avg\n",
        "# Prix moyen hebdomadaire pour chaque type de carburant\n",
        "average_prices = df.groupBy(\"week_of_year_manual\", \"gas_type\").agg(avg(\"price\").alias(\"avg_price\"))\n",
        "# Données pour l'affichage avec Matplotlib\n",
        "data = average_prices.toPandas()\n",
        "average_prices.show(5, truncate=False)"
      ],
      "metadata": {
        "colab": {
          "base_uri": "https://localhost:8080/"
        },
        "id": "4qMYrve-mK28",
        "outputId": "19bdbc1f-ca4a-424a-89b0-da90d12dcff2"
      },
      "execution_count": 18,
      "outputs": [
        {
          "output_type": "stream",
          "name": "stdout",
          "text": [
            "+-------------------+--------+------------------+\n",
            "|week_of_year_manual|gas_type|avg_price         |\n",
            "+-------------------+--------+------------------+\n",
            "|31                 |Gazole  |1450.38668773126  |\n",
            "|3                  |SP98    |1504.087397758255 |\n",
            "|5                  |SP95    |1437.4654498044329|\n",
            "|64                 |SP98    |2.055427330768952 |\n",
            "|51                 |Gazole  |1535.612867748144 |\n",
            "+-------------------+--------+------------------+\n",
            "only showing top 5 rows\n",
            "\n"
          ]
        }
      ]
    },
    {
      "cell_type": "code",
      "source": [
        "# Graphique à plusieurs lignes avec Seaborn FacetGrid\n",
        "g = sns.FacetGrid(data, col=\"gas_type\", col_wrap=3, height=6, sharey=False)\n",
        "g.map(sns.lineplot, \"week_of_year_manual\", \"avg_price\")\n",
        "\n",
        "g.set_axis_labels(\"Semaine\", \"Prix moyen\")\n",
        "g.set_titles(col_template=\"{col_name}\")\n",
        "\n",
        "plt.show()"
      ],
      "metadata": {
        "colab": {
          "base_uri": "https://localhost:8080/",
          "height": 755
        },
        "id": "rtSWpPR2mUJ4",
        "outputId": "3848cbb3-343d-45c2-aa2d-2e93a060baf4"
      },
      "execution_count": 23,
      "outputs": [
        {
          "output_type": "display_data",
          "data": {
            "text/plain": [
              "<Figure size 1800x1200 with 6 Axes>"
            ],
            "image/png": "[encoded data removed]"
          },
          "metadata": {}
        }
      ]
    },
    {
      "cell_type": "markdown",
      "source": [
        "###Représenter une carte avec le prix moyen pour chaque type de carburant de France par ville\n",
        "• Pour cela, vous pouvez calculer le prix moyen agrégé par ville\n",
        "pour un carburant que vous choisissez, pour une période donnée (une\n",
        "année) et visualiser le résultat"
      ],
      "metadata": {
        "id": "K8CljHoTmsU4"
      }
    },
    {
      "cell_type": "markdown",
      "metadata": {
        "id": "OE83qgl4uzLo"
      },
      "source": [
        "## ***Modélisation – Prévision du prix le lendemain***\n",
        "Construire un modèle basé sur Spark ML pour prévoir le prix du lendemain pour un type de carburant donné dans une station donnée"
      ]
    },
    {
      "cell_type": "code",
      "execution_count": null,
      "metadata": {
        "colab": {
          "base_uri": "https://localhost:8080/"
        },
        "id": "rDsy4ukruzLo",
        "outputId": "fd3fd5f4-165b-4512-8c7f-32f9d8fed41a"
      },
      "outputs": [
        {
          "name": "stdout",
          "output_type": "stream",
          "text": [
            "+-------+----+---+---------+--------+-------------------+----+-----+-------------------+------+--------+------+---------------------+---------------------+-------------------------------------------------------------------------------------------------------+\n",
            "|id_pdv |cp  |pop|lat      |long    |date               |year|month|week_of_year_manual|gas_id|gas_type|price |address              |city                 |services                                                                                               |\n",
            "+-------+----+---+---------+--------+-------------------+----+-----+-------------------+------+--------+------+---------------------+---------------------+-------------------------------------------------------------------------------------------------------+\n",
            "|1000001|1000|R  |4620100.0|519800.0|2021-01-02 15:13:25|2021|1    |1                  |1     |Gazole  |1252.0|596 AVENUE DE TREVOUX|SAINT-DENIS-LèS-BOURG|Station de gonflage,Vente de gaz domestique (Butane, Propane),DAB (Distributeur automatique de billets)|\n",
            "|1000001|1000|R  |4620100.0|519800.0|2021-01-04 09:28:43|2021|1    |1                  |1     |Gazole  |1268.0|596 AVENUE DE TREVOUX|SAINT-DENIS-LèS-BOURG|Station de gonflage,Vente de gaz domestique (Butane, Propane),DAB (Distributeur automatique de billets)|\n",
            "|1000001|1000|R  |4620100.0|519800.0|2021-01-06 09:29:19|2021|1    |1                  |1     |Gazole  |1268.0|596 AVENUE DE TREVOUX|SAINT-DENIS-LèS-BOURG|Station de gonflage,Vente de gaz domestique (Butane, Propane),DAB (Distributeur automatique de billets)|\n",
            "|1000001|1000|R  |4620100.0|519800.0|2021-01-06 15:45:51|2021|1    |1                  |1     |Gazole  |1268.0|596 AVENUE DE TREVOUX|SAINT-DENIS-LèS-BOURG|Station de gonflage,Vente de gaz domestique (Butane, Propane),DAB (Distributeur automatique de billets)|\n",
            "|1000001|1000|R  |4620100.0|519800.0|2021-01-07 09:44:40|2021|1    |1                  |1     |Gazole  |1273.0|596 AVENUE DE TREVOUX|SAINT-DENIS-LèS-BOURG|Station de gonflage,Vente de gaz domestique (Butane, Propane),DAB (Distributeur automatique de billets)|\n",
            "+-------+----+---+---------+--------+-------------------+----+-----+-------------------+------+--------+------+---------------------+---------------------+-------------------------------------------------------------------------------------------------------+\n",
            "only showing top 5 rows\n",
            "\n"
          ]
        }
      ],
      "source": [
        "df.show(5,truncate=False)"
      ]
    },
    {
      "cell_type": "markdown",
      "metadata": {
        "id": "g0EA6K9puzLo"
      },
      "source": [
        "Pour effectuer la prediction du lendemain qui est une date sans heure on a besoin de récupérer la date sans l'heure à partir de la variable date."
      ]
    },
    {
      "cell_type": "markdown",
      "metadata": {
        "id": "ky9qvBhpuzLo"
      },
      "source": [
        "Pour eviter le problème de multicolinérité parfaite entre date, date_only, year, month et week_of_year  ont va supprimer toutes ses colonnes et ne garder que date_only. On suggère aussi un problème de multicolinéarité entre address et services et le code postal (CP) donc on va garder que le code postal\n",
        "le prix du lendemain pour un type de carburant donné dans une station donnée en fonctions de ses caractéristiques:\n",
        "- ~~id_pdv~~\n",
        "- ~~date~~\n",
        "- ~~address~~\n",
        "- ~~services~~\n",
        "- ~~gas_id~~\n",
        "- CP ✅ (Encodage Onehot)\n",
        "- lat ✅\n",
        "- long ✅\n",
        "- year ✅ (Encodage Onehot)\n",
        "- month ✅ (Encodage Onehot)\n",
        "- week_of_year_manual ✅ (Encodage Onehot)\n",
        "- pop ✅ (encodage Ordinale 0/1)\n",
        "- price ✅\n",
        "- ~~city~~\n",
        "- gas_type ✅ (Encodage Onehot)"
      ]
    },
    {
      "cell_type": "code",
      "execution_count": null,
      "metadata": {
        "colab": {
          "base_uri": "https://localhost:8080/"
        },
        "id": "_EArFDnLuzLp",
        "outputId": "3057e664-9523-4e93-d601-761db10c20dd"
      },
      "outputs": [
        {
          "name": "stdout",
          "output_type": "stream",
          "text": [
            "+----+---+---------+--------+----+-----+-------------------+--------+------+\n",
            "|cp  |pop|lat      |long    |year|month|week_of_year_manual|gas_type|price |\n",
            "+----+---+---------+--------+----+-----+-------------------+--------+------+\n",
            "|1000|R  |4620100.0|519800.0|2021|1    |1                  |Gazole  |1252.0|\n",
            "|1000|R  |4620100.0|519800.0|2021|1    |1                  |Gazole  |1268.0|\n",
            "|1000|R  |4620100.0|519800.0|2021|1    |1                  |Gazole  |1268.0|\n",
            "|1000|R  |4620100.0|519800.0|2021|1    |1                  |Gazole  |1268.0|\n",
            "|1000|R  |4620100.0|519800.0|2021|1    |1                  |Gazole  |1273.0|\n",
            "+----+---+---------+--------+----+-----+-------------------+--------+------+\n",
            "only showing top 5 rows\n",
            "\n"
          ]
        }
      ],
      "source": [
        "df = df.selectExpr(\"cp\", \"pop\", \"lat\", \"long\",\"year\", \"month\",\"week_of_year_manual\",\n",
        "                    \"gas_type\", \"price\")\n",
        "df.show(5,truncate=False)"
      ]
    },
    {
      "cell_type": "markdown",
      "metadata": {
        "id": "hdZUfgB9uzLp"
      },
      "source": [
        "Type des variables"
      ]
    },
    {
      "cell_type": "code",
      "execution_count": null,
      "metadata": {
        "colab": {
          "base_uri": "https://localhost:8080/"
        },
        "id": "kKpoZZJluzLp",
        "outputId": "9ff6ecdd-dc3c-4368-8699-23f82a0d292f"
      },
      "outputs": [
        {
          "name": "stdout",
          "output_type": "stream",
          "text": [
            "root\n",
            " |-- cp: integer (nullable = true)\n",
            " |-- pop: string (nullable = true)\n",
            " |-- lat: double (nullable = true)\n",
            " |-- long: double (nullable = true)\n",
            " |-- year: integer (nullable = true)\n",
            " |-- month: integer (nullable = true)\n",
            " |-- week_of_year_manual: long (nullable = true)\n",
            " |-- gas_type: string (nullable = true)\n",
            " |-- price: double (nullable = true)\n",
            "\n"
          ]
        }
      ],
      "source": [
        "df.printSchema()"
      ]
    },
    {
      "cell_type": "code",
      "execution_count": null,
      "metadata": {
        "id": "G_otxUdp3JuK"
      },
      "outputs": [],
      "source": [
        "# Liste des noms de colonnes à convertir en chaînes de caractères\n",
        "columns_to_convert = [\"year\", \"month\", \"week_of_year_manual\"]\n",
        "\n",
        "# Convertir chaque colonne en chaîne de caractères\n",
        "for column in columns_to_convert:\n",
        "  df = df.withColumn(column, F.col(column).cast(F.StringType()))"
      ]
    },
    {
      "cell_type": "code",
      "execution_count": null,
      "metadata": {
        "colab": {
          "base_uri": "https://localhost:8080/"
        },
        "id": "myFB8sUN3erP",
        "outputId": "d765bc95-73f3-4c64-f0cc-45376a536ea4"
      },
      "outputs": [
        {
          "name": "stdout",
          "output_type": "stream",
          "text": [
            "root\n",
            " |-- cp: integer (nullable = true)\n",
            " |-- pop: string (nullable = true)\n",
            " |-- lat: double (nullable = true)\n",
            " |-- long: double (nullable = true)\n",
            " |-- year: string (nullable = true)\n",
            " |-- month: string (nullable = true)\n",
            " |-- week_of_year_manual: string (nullable = true)\n",
            " |-- gas_type: string (nullable = true)\n",
            " |-- price: double (nullable = true)\n",
            "\n"
          ]
        }
      ],
      "source": [
        "df.printSchema()"
      ]
    },
    {
      "cell_type": "code",
      "execution_count": null,
      "metadata": {
        "colab": {
          "base_uri": "https://localhost:8080/"
        },
        "id": "ovsr0jUDuzLp",
        "outputId": "fe4d7c73-f6ef-4712-cf9e-8560b9e902c1"
      },
      "outputs": [
        {
          "name": "stdout",
          "output_type": "stream",
          "text": [
            "+----+\n",
            "|pop |\n",
            "+----+\n",
            "|A   |\n",
            "|R   |\n",
            "|NULL|\n",
            "+----+\n",
            "\n"
          ]
        }
      ],
      "source": [
        "df.select(\"pop\").distinct().show(truncate = False)"
      ]
    },
    {
      "cell_type": "code",
      "execution_count": null,
      "metadata": {
        "colab": {
          "base_uri": "https://localhost:8080/"
        },
        "id": "3W03vbsguzLp",
        "outputId": "872eaead-089d-4899-c68d-a1960e6642fb"
      },
      "outputs": [
        {
          "name": "stdout",
          "output_type": "stream",
          "text": [
            "+--------+\n",
            "|gas_type|\n",
            "+--------+\n",
            "|E10     |\n",
            "|SP98    |\n",
            "|E85     |\n",
            "|Gazole  |\n",
            "|SP95    |\n",
            "|GPLc    |\n",
            "+--------+\n",
            "\n"
          ]
        }
      ],
      "source": [
        "df.select(\"gas_type\").distinct().show(truncate = False)"
      ]
    },
    {
      "cell_type": "code",
      "execution_count": null,
      "metadata": {
        "colab": {
          "base_uri": "https://localhost:8080/"
        },
        "id": "ihHGrNl97KTS",
        "outputId": "15d74947-fbbe-42ef-edc6-554c584a5709"
      },
      "outputs": [
        {
          "name": "stdout",
          "output_type": "stream",
          "text": [
            "Nombre de valeurs distinctes dans la colonne 'cp': 4337\n"
          ]
        }
      ],
      "source": [
        "distinct_count = df.select(\"cp\").distinct().count()\n",
        "\n",
        "# Afficher le résultat\n",
        "print(\"Nombre de valeurs distinctes dans la colonne 'cp':\", distinct_count)"
      ]
    },
    {
      "cell_type": "code",
      "execution_count": null,
      "metadata": {
        "id": "sqGx-hCy8W59"
      },
      "outputs": [],
      "source": [
        "df = df.withColumn(\"cp\", F.col(\"cp\").cast(F.StringType()))"
      ]
    },
    {
      "cell_type": "markdown",
      "metadata": {
        "id": "d_0SCYaGuzLq"
      },
      "source": [
        "Suppression de la valeur NULL dans toutes nos variables de type chaîne de caractère"
      ]
    },
    {
      "cell_type": "code",
      "execution_count": null,
      "metadata": {
        "id": "pH9XSJ2euzLq"
      },
      "outputs": [],
      "source": [
        "df = df.filter(F.col(\"pop\").isNotNull())\n",
        "df = df.filter(F.col(\"year\").isNotNull())\n",
        "df = df.filter(F.col(\"month\").isNotNull())\n",
        "df = df.filter(F.col(\"week_of_year_manual\").isNotNull())\n",
        "df = df.filter(F.col(\"cp\").isNotNull())"
      ]
    },
    {
      "cell_type": "markdown",
      "metadata": {
        "id": "EtyaMkPruzLq"
      },
      "source": [
        "### Encodage"
      ]
    },
    {
      "cell_type": "markdown",
      "metadata": {
        "id": "h0XGWkkJuzLq"
      },
      "source": [
        "Population : binaire (A,R)"
      ]
    },
    {
      "cell_type": "code",
      "execution_count": null,
      "metadata": {
        "colab": {
          "base_uri": "https://localhost:8080/"
        },
        "id": "DLHnc4mzuzLq",
        "outputId": "b670b832-38b4-4ecd-81ce-85d8876a9c4f"
      },
      "outputs": [
        {
          "name": "stdout",
          "output_type": "stream",
          "text": [
            "+----+---+----+\n",
            "|  cp|pop|npop|\n",
            "+----+---+----+\n",
            "|1160|  R| 0.0|\n",
            "|1160|  R| 0.0|\n",
            "|1160|  R| 0.0|\n",
            "|1160|  R| 0.0|\n",
            "|1160|  R| 0.0|\n",
            "+----+---+----+\n",
            "only showing top 5 rows\n",
            "\n"
          ]
        }
      ],
      "source": [
        "from pyspark.ml.feature import StringIndexer, OneHotEncoder\n",
        "# 1ère étape, transformation chaîne de caractères -> valeur numérique\n",
        "\n",
        "# Phase de fit()\n",
        "# Passage des chaînes de caractères en numérique, automatiquement (R -> 0, A -> 1)\n",
        "npop = StringIndexer(inputCol='pop', outputCol='npop')\n",
        "npop_encoder = npop.fit(df)\n",
        "\n",
        "# Phase de transform()\n",
        "npop_encoder.transform(df).select('cp', 'pop', 'npop').show(5)"
      ]
    },
    {
      "cell_type": "markdown",
      "metadata": {
        "id": "k-sxA1AIuzLq"
      },
      "source": [
        "Type de Caburant - Gas_type (E10, SP98, E85, Gazole, SP95 GPLc) - One Hot encoding\n",
        "\n",
        "Le OneHotEncoder utilise un codage \"creux\" (_sparse_) pour le vecteur `ohe_gas_type`.\n",
        "\n",
        "Codage sparse, c'est un triplet :\n",
        "* la dimension (nombre de valeur, ici 6)\n",
        "* la liste des positions des valeurs != 0)\n",
        "* les valeurs elles-mêmes\n",
        "\n",
        "Par exemple : `(6, [0], [1.0])` se lit \"il y a 6 dimensions au vecteur, et il y a une valeur non nulle en position [0], et cette valeur non nulle vaut 1.\n",
        "\n",
        "* Gazole -> 1 0 0 0 0 0-> (6, 0, 1) : 6=dimension, 0=position du 1, 1=valeur à la position\n",
        "* SP98   -> 0 1 0 0 0 0-> (6, 1, 1)\n",
        "* E85    -> 0 0 1 0 0 0 -> (6, 2, 1)\n",
        "\n",
        "\n",
        "Pensez au cas avec 100 modalités (exemple) :\n",
        "* xx -> 00000000....1.....0000 = 100 chiffres en codage _dense_\n",
        "* xx -> (100, 53, 1) = 3 chiffres en codage _sparse_"
      ]
    },
    {
      "cell_type": "code",
      "execution_count": null,
      "metadata": {
        "colab": {
          "base_uri": "https://localhost:8080/"
        },
        "id": "Zq64FyKYuzLr",
        "outputId": "7703fc72-4eee-454e-a5fd-54788eebe6ec"
      },
      "outputs": [
        {
          "name": "stdout",
          "output_type": "stream",
          "text": [
            "+----+--------+---------+\n",
            "|  cp|gas_type|ngas_type|\n",
            "+----+--------+---------+\n",
            "|1160|  Gazole|      0.0|\n",
            "|1160|  Gazole|      0.0|\n",
            "|1160|  Gazole|      0.0|\n",
            "|1160|  Gazole|      0.0|\n",
            "|1160|  Gazole|      0.0|\n",
            "+----+--------+---------+\n",
            "only showing top 5 rows\n",
            "\n",
            "+----+--------+---------+-------------+\n",
            "|  cp|gas_type|ngas_type| ohe_gas_type|\n",
            "+----+--------+---------+-------------+\n",
            "|1160|  Gazole|      0.0|(6,[0],[1.0])|\n",
            "|1160|  Gazole|      0.0|(6,[0],[1.0])|\n",
            "|1160|  Gazole|      0.0|(6,[0],[1.0])|\n",
            "|1160|  Gazole|      0.0|(6,[0],[1.0])|\n",
            "|1160|  Gazole|      0.0|(6,[0],[1.0])|\n",
            "+----+--------+---------+-------------+\n",
            "only showing top 5 rows\n",
            "\n"
          ]
        }
      ],
      "source": [
        "# 1ère étape, transformation chaîne de caractères -> valeur numérique\n",
        "\n",
        "# Phase de fit()\n",
        "# Passage des chaînes de caractères en numérique, automatiquement (Gazole -> 0, SP98 -> 1, E85 -> 2, etc)\n",
        "ngas_type = StringIndexer(inputCol='gas_type', outputCol='ngas_type')\n",
        "ngas_type_encoder = ngas_type.fit(df)\n",
        "\n",
        "# Phase de transform()\n",
        "ngas_type_encoder.transform(df).select('cp', 'gas_type', 'ngas_type').show(5)\n",
        "# 2ième étape, encodage en variables binaires\n",
        "ohegas_type = OneHotEncoder(inputCol='ngas_type', outputCol='ohe_gas_type', dropLast=False)\n",
        "ohegas_type_encoder = ohegas_type.fit(ngas_type_encoder.transform(df))\n",
        "\n",
        "ohegas_type_encoder.transform(ngas_type_encoder.transform(df)).select('cp', 'gas_type', 'ngas_type', 'ohe_gas_type').show(5)"
      ]
    },
    {
      "cell_type": "code",
      "execution_count": 24,
      "metadata": {
        "id": "b_w5RYf0uzLs"
      },
      "outputs": [],
      "source": [
        "from pyspark.ml import Pipeline\n",
        "from pyspark.ml.feature import StringIndexer, OneHotEncoder, Imputer, VectorAssembler\n",
        "from pyspark.ml.regression import LinearRegression, RandomForestRegressor\n",
        "\n",
        "n_pop = StringIndexer(inputCol='pop', outputCol='npop')\n",
        "n_gas_type = StringIndexer(inputCol='gas_type', outputCol='ngas_type')\n",
        "ohe_gas_type = OneHotEncoder(inputCol='ngas_type', outputCol='ohegas_type')\n",
        "n_year = StringIndexer(inputCol='year', outputCol='nyear')\n",
        "ohe_year = OneHotEncoder(inputCol='nyear', outputCol='oheyear')\n",
        "n_month = StringIndexer(inputCol='month', outputCol='nmonth')\n",
        "ohe_month = OneHotEncoder(inputCol='nmonth', outputCol='ohemonth')\n",
        "n_week_of_year_manual = StringIndexer(inputCol='week_of_year_manual', outputCol='nweek_of_year_manual')\n",
        "ohe_week_of_year_manual = OneHotEncoder(inputCol='nweek_of_year_manual', outputCol='oheweek_of_year_manual')\n",
        "n_cp = StringIndexer(inputCol='cp', outputCol='ncp')\n",
        "ohe_cp= OneHotEncoder(inputCol='ncp', outputCol='ohecp')\n",
        "\n",
        "features = VectorAssembler(inputCols=['lat', 'long', 'npop', 'ohecp','oheyear','ohemonth','oheweek_of_year_manual', 'ohegas_type'],\n",
        "                           outputCol = 'features')# 8 vecteurs stockées dans la colonne features\n",
        "pipeline = Pipeline(stages = [n_pop, n_cp, ohe_cp, n_year, ohe_year, n_month, ohe_month, n_week_of_year_manual, ohe_week_of_year_manual, n_gas_type, ohe_gas_type, features]) # on ne prend que les objets du StringIndexer"
      ]
    },
    {
      "cell_type": "code",
      "execution_count": null,
      "metadata": {
        "colab": {
          "base_uri": "https://localhost:8080/"
        },
        "id": "Dd5HRuHGuzLs",
        "outputId": "20e49c01-f427-4343-be87-748c89c6749b"
      },
      "outputs": [
        {
          "name": "stdout",
          "output_type": "stream",
          "text": [
            "+----+---+-------------+-------------+----+-----+-------------------+--------+------+----+-----+------------------+-----+---------+------+--------------+--------------------+----------------------+---------+-------------+-----------------------------------------------------------------------------+\n",
            "|cp  |pop|lat          |long         |year|month|week_of_year_manual|gas_type|price |npop|ncp  |ohecp             |nyear|oheyear  |nmonth|ohemonth      |nweek_of_year_manual|oheweek_of_year_manual|ngas_type|ohegas_type  |features                                                                     |\n",
            "+----+---+-------------+-------------+----+-----+-------------------+--------+------+----+-----+------------------+-----+---------+------+--------------+--------------------+----------------------+---------+-------------+-----------------------------------------------------------------------------+\n",
            "|1160|R  |4605335.06156|533741.036717|2021|1    |1                  |Gazole  |1262.0|0.0 |886.0|(4335,[886],[1.0])|2.0  |(2,[],[])|4.0   |(11,[4],[1.0])|147.0               |(155,[147],[1.0])     |0.0      |(5,[0],[1.0])|(4511,[0,1,889,4344,4498,4506],[4605335.06156,533741.036717,1.0,1.0,1.0,1.0])|\n",
            "|1160|R  |4605335.06156|533741.036717|2021|1    |1                  |Gazole  |1262.0|0.0 |886.0|(4335,[886],[1.0])|2.0  |(2,[],[])|4.0   |(11,[4],[1.0])|147.0               |(155,[147],[1.0])     |0.0      |(5,[0],[1.0])|(4511,[0,1,889,4344,4498,4506],[4605335.06156,533741.036717,1.0,1.0,1.0,1.0])|\n",
            "|1160|R  |4605335.06156|533741.036717|2021|1    |1                  |Gazole  |1262.0|0.0 |886.0|(4335,[886],[1.0])|2.0  |(2,[],[])|4.0   |(11,[4],[1.0])|147.0               |(155,[147],[1.0])     |0.0      |(5,[0],[1.0])|(4511,[0,1,889,4344,4498,4506],[4605335.06156,533741.036717,1.0,1.0,1.0,1.0])|\n",
            "|1160|R  |4605335.06156|533741.036717|2021|1    |1                  |Gazole  |1262.0|0.0 |886.0|(4335,[886],[1.0])|2.0  |(2,[],[])|4.0   |(11,[4],[1.0])|147.0               |(155,[147],[1.0])     |0.0      |(5,[0],[1.0])|(4511,[0,1,889,4344,4498,4506],[4605335.06156,533741.036717,1.0,1.0,1.0,1.0])|\n",
            "|1160|R  |4605335.06156|533741.036717|2021|1    |1                  |Gazole  |1269.0|0.0 |886.0|(4335,[886],[1.0])|2.0  |(2,[],[])|4.0   |(11,[4],[1.0])|147.0               |(155,[147],[1.0])     |0.0      |(5,[0],[1.0])|(4511,[0,1,889,4344,4498,4506],[4605335.06156,533741.036717,1.0,1.0,1.0,1.0])|\n",
            "+----+---+-------------+-------------+----+-----+-------------------+--------+------+----+-----+------------------+-----+---------+------+--------------+--------------------+----------------------+---------+-------------+-----------------------------------------------------------------------------+\n",
            "only showing top 5 rows\n",
            "\n"
          ]
        }
      ],
      "source": [
        "pipeline.fit(df).transform(df).show(5, truncate=False)"
      ]
    },
    {
      "cell_type": "markdown",
      "metadata": {
        "id": "DLw5s0NNhR8r"
      },
      "source": [
        "### Random Forest Regressor"
      ]
    },
    {
      "cell_type": "code",
      "execution_count": null,
      "metadata": {
        "id": "CP0PXtPmuzLs"
      },
      "outputs": [],
      "source": [
        "#initialisation du modèle\n",
        "model_forest = RandomForestRegressor(labelCol='price')\n",
        "#création du pipeline\n",
        "pipeline_forest = Pipeline(stages = [pipeline, model_forest])"
      ]
    },
    {
      "cell_type": "code",
      "execution_count": null,
      "metadata": {
        "id": "kf4249XzuzLs"
      },
      "outputs": [],
      "source": [
        "train_df,test_df = df.dropna(subset=['gas_type']).randomSplit([0.8,0.2], seed =1234)"
      ]
    },
    {
      "cell_type": "code",
      "execution_count": null,
      "metadata": {
        "id": "i5faCtBtfxmL"
      },
      "outputs": [],
      "source": [
        "model_rf = pipeline_forest.fit(train_df)"
      ]
    },
    {
      "cell_type": "code",
      "execution_count": null,
      "metadata": {
        "id": "hyakBGFYf0l1"
      },
      "outputs": [],
      "source": [
        "predictions_rf = model_rf.transform(test_df)"
      ]
    },
    {
      "cell_type": "code",
      "execution_count": null,
      "metadata": {
        "colab": {
          "base_uri": "https://localhost:8080/"
        },
        "id": "GYW1zCSooSEd",
        "outputId": "a3a94453-0eb4-482b-c89f-3af7d0e8783f"
      },
      "outputs": [
        {
          "name": "stdout",
          "output_type": "stream",
          "text": [
            "+----+---+---------+--------+----+-----+-------------------+--------+------+----+-----+------------------+-----+---------+------+--------------+--------------------+----------------------+---------+-------------+--------------------+------------------+\n",
            "|  cp|pop|      lat|    long|year|month|week_of_year_manual|gas_type| price|npop|  ncp|             ohecp|nyear|  oheyear|nmonth|      ohemonth|nweek_of_year_manual|oheweek_of_year_manual|ngas_type|  ohegas_type|            features|        prediction|\n",
            "+----+---+---------+--------+----+-----+-------------------+--------+------+----+-----+------------------+-----+---------+------+--------------+--------------------+----------------------+---------+-------------+--------------------+------------------+\n",
            "|1000|  R|4618800.0|524500.0|2021|    1|                  2|  Gazole|1420.0| 0.0|133.0|(4335,[133],[1.0])|  2.0|(2,[],[])|   4.0|(11,[4],[1.0])|                45.0|      (155,[45],[1.0])|      0.0|(5,[0],[1.0])|(4511,[0,1,136,43...|1305.8454843102254|\n",
            "|1000|  R|4618800.0|524500.0|2021|    1|                  3|  Gazole|1410.0| 0.0|133.0|(4335,[133],[1.0])|  2.0|(2,[],[])|   4.0|(11,[4],[1.0])|               135.0|     (155,[135],[1.0])|      0.0|(5,[0],[1.0])|(4511,[0,1,136,43...|1305.8454843102254|\n",
            "|1000|  R|4618800.0|524500.0|2021|   11|                 47|    SP95|1710.0| 0.0|133.0|(4335,[133],[1.0])|  2.0|(2,[],[])|   6.0|(11,[6],[1.0])|                68.0|      (155,[68],[1.0])|      4.0|(5,[4],[1.0])|(4511,[0,1,136,43...|1341.0405239831287|\n",
            "|1000|  R|4618800.0|524500.0|2021|   11|                 48|    SP95|1730.0| 0.0|133.0|(4335,[133],[1.0])|  2.0|(2,[],[])|   6.0|(11,[6],[1.0])|                25.0|      (155,[25],[1.0])|      4.0|(5,[4],[1.0])|(4511,[0,1,136,43...| 1396.447099928676|\n",
            "|1000|  R|4618800.0|524500.0|2021|   12|                 49|  Gazole|1590.0| 0.0|133.0|(4335,[133],[1.0])|  2.0|(2,[],[])|  11.0|    (11,[],[])|                61.0|      (155,[61],[1.0])|      0.0|(5,[0],[1.0])|(4511,[0,1,136,44...|1323.6873148197114|\n",
            "+----+---+---------+--------+----+-----+-------------------+--------+------+----+-----+------------------+-----+---------+------+--------------+--------------------+----------------------+---------+-------------+--------------------+------------------+\n",
            "only showing top 5 rows\n",
            "\n"
          ]
        }
      ],
      "source": [
        "predictions_rf.show(5)"
      ]
    },
    {
      "cell_type": "code",
      "execution_count": null,
      "metadata": {
        "id": "oE881ItToqSt"
      },
      "outputs": [],
      "source": [
        "import matplotlib.pyplot as plt\n",
        "import numpy as np\n",
        "from pyspark.sql.functions import expr\n",
        "\n",
        "# Calculer RMSE\n",
        "mse = predictions_rf.select(expr('POWER(price - prediction, 2)').alias('squared_error')).agg({'squared_error': 'mean'}).collect()[0][0]\n"
      ]
    },
    {
      "cell_type": "code",
      "execution_count": null,
      "metadata": {
        "colab": {
          "base_uri": "https://localhost:8080/"
        },
        "id": "YuwGpx5fwMR3",
        "outputId": "046660a5-1ea8-4364-aa41-5d3de5ea3e60"
      },
      "outputs": [
        {
          "name": "stdout",
          "output_type": "stream",
          "text": [
            "RMSE pour random Forest: 154.19894791071926\n"
          ]
        }
      ],
      "source": [
        "rmse = np.sqrt(mse)\n",
        "print(\"RMSE pour random Forest:\", rmse)"
      ]
    },
    {
      "cell_type": "code",
      "execution_count": null,
      "metadata": {
        "colab": {
          "background_save": true
        },
        "id": "227DXJtZnjRj",
        "outputId": "98d887dd-b48c-41fb-ac9b-858661a13d2d"
      },
      "outputs": [
        {
          "data": {
            "image/png": "[encoded data removed]",
            "text/plain": [
              "<Figure size 800x600 with 1 Axes>"
            ]
          },
          "metadata": {},
          "output_type": "display_data"
        }
      ],
      "source": [
        "# Tracer un graphique de dispersion\n",
        "real_values = predictions_rf.select('price').rdd.map(lambda x: x[0]).collect()\n",
        "predicted_values = predictions_rf.select('prediction').rdd.map(lambda x: x[0]).collect()\n",
        "\n",
        "plt.figure(figsize=(8, 6))\n",
        "plt.scatter(real_values, predicted_values, color='blue', alpha=0.5)\n",
        "plt.xlabel('Valeurs réelles')\n",
        "plt.ylabel('Prédictions')\n",
        "plt.title('Graphique de dispersion des valeurs réelles et prédites Random Forest')\n",
        "plt.grid(True)\n",
        "plt.show()"
      ]
    },
    {
      "cell_type": "code",
      "execution_count": null,
      "metadata": {
        "colab": {
          "base_uri": "https://localhost:8080/"
        },
        "id": "zIsXarv-f8Gm",
        "outputId": "92fc5ac9-1c31-4ea2-e02e-0ea6ae96c1e5"
      },
      "outputs": [
        {
          "name": "stdout",
          "output_type": "stream",
          "text": [
            "Coefficient de détermination (R²) sur les données de test pour le random Forest = 0.949593\n"
          ]
        }
      ],
      "source": [
        "from pyspark.ml.evaluation import RegressionEvaluator\n",
        "\n",
        "evaluator = RegressionEvaluator(labelCol=\"price\", predictionCol=\"prediction\", metricName=\"r2\")\n",
        "r2 = evaluator.evaluate(predictions_rf)\n",
        "\n",
        "print(\"Coefficient de détermination (R²) sur les données de test pour le random Forest = %g\" % r2)"
      ]
    },
    {
      "cell_type": "markdown",
      "metadata": {
        "id": "sFXfsvo2hAXP"
      },
      "source": [
        "### LinearRegression"
      ]
    },
    {
      "cell_type": "code",
      "execution_count": 25,
      "metadata": {
        "id": "XAtdp5jIuzLt"
      },
      "outputs": [],
      "source": [
        "#initialisation du modèle\n",
        "model_lr = LinearRegression(labelCol='price')\n",
        "#création du pipeline\n",
        "pipeline_lr = Pipeline(stages = [pipeline, model_lr])"
      ]
    },
    {
      "cell_type": "code",
      "execution_count": null,
      "metadata": {
        "id": "GYBaNrUtidFi"
      },
      "outputs": [],
      "source": [
        "model_lr = pipeline_lr.fit(train_df)"
      ]
    },
    {
      "cell_type": "code",
      "execution_count": null,
      "metadata": {
        "colab": {
          "background_save": true
        },
        "id": "omKCCZADuzLt"
      },
      "outputs": [],
      "source": [
        "predictions_lr = model_lr.transform(test_df)"
      ]
    },
    {
      "cell_type": "code",
      "execution_count": null,
      "metadata": {
        "colab": {
          "background_save": true
        },
        "id": "gZws-Tav00Bv",
        "outputId": "3abd31ed-3f38-4d00-ac9c-7202573552d1"
      },
      "outputs": [
        {
          "name": "stdout",
          "output_type": "stream",
          "text": [
            "+----+---+---------+--------+----+-----+-------------------+--------+------+----+-----+------------------+-----+---------+------+--------------+--------------------+----------------------+---------+-------------+--------------------------------------------------------------------+------------------+\n",
            "|cp  |pop|lat      |long    |year|month|week_of_year_manual|gas_type|price |npop|ncp  |ohecp             |nyear|oheyear  |nmonth|ohemonth      |nweek_of_year_manual|oheweek_of_year_manual|ngas_type|ohegas_type  |features                                                            |prediction        |\n",
            "+----+---+---------+--------+----+-----+-------------------+--------+------+----+-----+------------------+-----+---------+------+--------------+--------------------+----------------------+---------+-------------+--------------------------------------------------------------------+------------------+\n",
            "|1000|R  |4618800.0|524500.0|2021|1    |2                  |Gazole  |1420.0|0.0 |133.0|(4335,[133],[1.0])|2.0  |(2,[],[])|4.0   |(11,[4],[1.0])|45.0                |(155,[45],[1.0])      |0.0      |(5,[0],[1.0])|(4511,[0,1,136,4344,4396,4506],[4618800.0,524500.0,1.0,1.0,1.0,1.0])|1322.4413499798102|\n",
            "|1000|R  |4618800.0|524500.0|2021|1    |3                  |Gazole  |1410.0|0.0 |133.0|(4335,[133],[1.0])|2.0  |(2,[],[])|4.0   |(11,[4],[1.0])|135.0               |(155,[135],[1.0])     |0.0      |(5,[0],[1.0])|(4511,[0,1,136,4344,4486,4506],[4618800.0,524500.0,1.0,1.0,1.0,1.0])|1329.4905475401922|\n",
            "|1000|R  |4618800.0|524500.0|2021|11   |47                 |SP95    |1710.0|0.0 |133.0|(4335,[133],[1.0])|2.0  |(2,[],[])|6.0   |(11,[6],[1.0])|68.0                |(155,[68],[1.0])      |4.0      |(5,[4],[1.0])|(4511,[0,1,136,4346,4419,4510],[4618800.0,524500.0,1.0,1.0,1.0,1.0])|1578.53188872704  |\n",
            "|1000|R  |4618800.0|524500.0|2021|11   |48                 |SP95    |1730.0|0.0 |133.0|(4335,[133],[1.0])|2.0  |(2,[],[])|6.0   |(11,[6],[1.0])|25.0                |(155,[25],[1.0])      |4.0      |(5,[4],[1.0])|(4511,[0,1,136,4346,4376,4510],[4618800.0,524500.0,1.0,1.0,1.0,1.0])|1553.4583119275535|\n",
            "|1000|R  |4618800.0|524500.0|2021|12   |49                 |Gazole  |1590.0|0.0 |133.0|(4335,[133],[1.0])|2.0  |(2,[],[])|11.0  |(11,[],[])    |61.0                |(155,[61],[1.0])      |0.0      |(5,[0],[1.0])|(4511,[0,1,136,4412,4506],[4618800.0,524500.0,1.0,1.0,1.0])         |1509.7888790688498|\n",
            "+----+---+---------+--------+----+-----+-------------------+--------+------+----+-----+------------------+-----+---------+------+--------------+--------------------+----------------------+---------+-------------+--------------------------------------------------------------------+------------------+\n",
            "only showing top 5 rows\n",
            "\n"
          ]
        }
      ],
      "source": [
        "predictions_lr.show(5, truncate = False)"
      ]
    },
    {
      "cell_type": "code",
      "execution_count": null,
      "metadata": {
        "colab": {
          "background_save": true
        },
        "id": "J5UcF15yuzLt",
        "outputId": "063ab529-ae7c-412a-f824-cb98cdd1365e"
      },
      "outputs": [
        {
          "name": "stdout",
          "output_type": "stream",
          "text": [
            "Coefficient de détermination (R²) sur les données de test linear regression = 0.96405\n"
          ]
        }
      ],
      "source": [
        "evaluator = RegressionEvaluator(labelCol=\"price\", predictionCol=\"prediction\", metricName=\"r2\")\n",
        "r2 = evaluator.evaluate(predictions_lr)\n",
        "\n",
        "print(\"Coefficient de détermination (R²) sur les données de test linear regression = %g\" % r2)"
      ]
    },
    {
      "cell_type": "code",
      "execution_count": null,
      "metadata": {
        "colab": {
          "background_save": true
        },
        "id": "725NL0re1ORq",
        "outputId": "3556e5d7-45d8-482f-e5ab-e64795135f88"
      },
      "outputs": [
        {
          "name": "stdout",
          "output_type": "stream",
          "text": [
            "RMSE pour linear regression: 130.22129821770017\n"
          ]
        }
      ],
      "source": [
        "# Calculer RMSE\n",
        "mse = predictions_lr.select(expr('POWER(price - prediction, 2)').alias('squared_error')).agg({'squared_error': 'mean'}).collect()[0][0]\n",
        "rmse = np.sqrt(mse)\n",
        "print(\"RMSE pour linear regression:\", rmse)"
      ]
    },
    {
      "cell_type": "code",
      "execution_count": null,
      "metadata": {
        "colab": {
          "background_save": true
        },
        "id": "wl1fygCh1T8m",
        "outputId": "bf003ff7-d3f8-4390-a6a0-aa8a4f8c2543"
      },
      "outputs": [
        {
          "data": {
            "image/png": "[encoded data removed]",
            "text/plain": [
              "<Figure size 800x600 with 1 Axes>"
            ]
          },
          "metadata": {},
          "output_type": "display_data"
        }
      ],
      "source": [
        "# Tracer un graphique de dispersion\n",
        "real_values = predictions_lr.select('price').rdd.map(lambda x: x[0]).collect()\n",
        "predicted_values = predictions_lr.select('prediction').rdd.map(lambda x: x[0]).collect()\n",
        "\n",
        "plt.figure(figsize=(8, 6))\n",
        "plt.scatter(real_values, predicted_values, color='blue', alpha=0.5)\n",
        "plt.xlabel('Valeurs réelles')\n",
        "plt.ylabel('Prédictions')\n",
        "plt.title('Graphique de dispersion des valeurs réelles et prédites Random Forest')\n",
        "plt.grid(True)\n",
        "plt.show()"
      ]
    },
    {
      "cell_type": "markdown",
      "source": [
        "## Conclusion\n",
        "On voit qu'il ya autant de dispersion entre la valeur réelle des prix et celle prédire pour le model de Random Forest que pour le model de regression linéaire et cela s'explique par les grosses valeures de RMSE obtenue (**154.19** et **130.22**). On en déduire que bien que le R2 soit élevé ce n'est pas pour autant un indicateur de performance fiable pour nos modèles de prédiction."
      ],
      "metadata": {
        "id": "SuRGc_tTqnbC"
      }
    }
  ],
  "metadata": {
    "colab": {
      "provenance": []
    },
    "kernelspec": {
      "display_name": "tf-new",
      "language": "python",
      "name": "python3"
    },
    "language_info": {
      "codemirror_mode": {
        "name": "ipython",
        "version": 3
      },
      "file_extension": ".py",
      "mimetype": "text/x-python",
      "name": "python",
      "nbconvert_exporter": "python",
      "pygments_lexer": "ipython3",
      "version": "3.10.13"
    }
  },
  "nbformat": 4,
  "nbformat_minor": 0
}